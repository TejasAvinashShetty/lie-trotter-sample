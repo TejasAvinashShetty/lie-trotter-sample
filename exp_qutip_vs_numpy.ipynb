{
 "cells": [
  {
   "cell_type": "markdown",
   "metadata": {
    "heading_collapsed": true
   },
   "source": [
    "# Imports"
   ]
  },
  {
   "cell_type": "code",
   "execution_count": 1,
   "metadata": {
    "ExecuteTime": {
     "end_time": "2019-01-27T10:49:15.701025Z",
     "start_time": "2019-01-27T10:49:13.624926Z"
    },
    "hidden": true
   },
   "outputs": [],
   "source": [
    "# # Imports\n",
    "\n",
    "# ## Qutip imports 1\n",
    "\n",
    "# In[1]:\n",
    "\n",
    "\n",
    "from qutip.operators import sigmax, sigmay, sigmaz, identity\n",
    "from qutip.operators import position, momentum, num, create, destroy, commutator, qeye \n",
    "from qutip.tensor import tensor\n",
    "from qutip.qip.gates import swap, rx, ry, rz\n",
    "from qutip.qobj import Qobj\n",
    "from qutip.visualization import hinton\n",
    "from qutip.visualization import matrix_histogram_complex, matrix_histogram\n",
    "from qutip.random_objects import rand_herm, rand_unitary, rand_dm\n",
    "\n",
    "\n",
    "# ## Qutip imports 2\n",
    "\n",
    "# In[3]:\n",
    "\n",
    "\n",
    "#from \n",
    "\n",
    "\n",
    "# ## Numpy imports \n",
    "\n",
    "# In[2]:\n",
    "\n",
    "\n",
    "from numpy import sin, cos, tan, real, imag,  log, conj\n",
    "from numpy import array, append, linspace, arange\n",
    "from numpy import add, sqrt, abs, dot\n",
    "from numpy.random import random, random_sample, rand, seed, RandomState\n",
    "from numpy import concatenate, trace, diag\n",
    "from numpy import ones, zeros, ones_like, zeros_like\n",
    "from numpy import amax, amin, nanmax, nanmin\n",
    "from numpy import outer, multiply\n",
    "# from numpy import pi\n",
    "\n",
    "\n",
    "# ## Scipy imports\n",
    "\n",
    "# In[17]:\n",
    "\n",
    "\n",
    "from scipy.integrate import ode, odeint, complex_ode\n",
    "from scipy.optimize import minimize\n",
    "from scipy.linalg import eigh, inv, norm, expm\n",
    "# from scipy.linalg import \n",
    "# from scipy import\n",
    "\n",
    "\n",
    "# ## Matplotlib imports\n",
    "\n",
    "# In[18]:\n",
    "\n",
    "\n",
    "from matplotlib.pyplot import plot, figure, show, savefig, axes\n",
    "from matplotlib.pyplot import xlabel, ylabel, title, legend\n",
    "from matplotlib import rcParams\n",
    "from matplotlib.pyplot import style \n",
    "from matplotlib.pyplot import xlim, ylim, axis \n",
    "# beware not same as axes\n",
    "from matplotlib.pyplot import subplot, subplots, text\n",
    "from matplotlib.pyplot import GridSpec\n",
    "from matplotlib.pyplot import scatter, colorbar\n",
    "\n",
    "\n",
    "pgf_with_rc_fonts = {\"pgf.texsystem\": \"pdflatex\"}\n",
    "rcParams.update(pgf_with_rc_fonts)\n",
    "style.use('seaborn-whitegrid')\n",
    "\n",
    "\n",
    "# ## Math imports\n",
    "\n",
    "# In[19]:\n",
    "\n",
    "\n",
    "from math import pi\n",
    "from math import exp\n",
    "\n",
    "\n",
    "# ## Cmath imports\n",
    "\n",
    "# ## Date and datetime imports\n",
    "\n",
    "# In[20]:\n",
    "\n",
    "\n",
    "from datetime import date\n",
    "from datetime import datetime# now\n",
    "\n",
    "\n",
    "# ## Os imports\n",
    "\n",
    "# In[21]:\n",
    "\n",
    "\n",
    "from os import getcwd, mkdir, chdir\n",
    "from os.path import abspath, join \n",
    "\n",
    "\n",
    "# ## Sympy imports\n",
    "\n",
    "# In[22]:\n",
    "\n",
    "\n",
    "from sympy import Function, dsolve, Eq, Derivative, symbols\n",
    "# x, y, z, t = symbols('x y z t')\n",
    "# k, m, n = symbols('k m n', integer=True)\n",
    "# f, g, h = symbols('f g h', cls=Function)\n",
    "\n",
    "\n",
    "# ## Miscellaneous imports\n",
    "\n",
    "# ## Extra useful functions\n",
    "\n",
    "# In[23]:\n",
    "\n",
    "\n",
    "def rint(x):\n",
    "    print(\"x = \", x)\n",
    "    return None\n",
    "\n",
    "\n",
    "# # Next chapter\n",
    "\n",
    "# ## sub topic 1\n",
    "\n",
    "# ## sub topic 2\n",
    "\n",
    "# ## sub topic 3\n",
    "\n",
    "# ### sub sub topic 1\n",
    "\n"
   ]
  },
  {
   "cell_type": "markdown",
   "metadata": {},
   "source": [
    "# Some  experimentation "
   ]
  },
  {
   "cell_type": "code",
   "execution_count": 2,
   "metadata": {
    "ExecuteTime": {
     "end_time": "2019-01-27T10:49:18.755415Z",
     "start_time": "2019-01-27T10:49:18.750447Z"
    }
   },
   "outputs": [],
   "source": [
    "def calc_exp(X, h):\n",
    "    rx, Ux = eigh(X)\n",
    "    Ux_inv = inv(Ux)\n",
    "    tx = diag(array([exp(h * i) for i in rx]))\n",
    "    eX = Ux.dot(tx.dot(Ux_inv))\n",
    "    return eX"
   ]
  },
  {
   "cell_type": "code",
   "execution_count": 3,
   "metadata": {
    "ExecuteTime": {
     "end_time": "2019-01-27T10:49:19.728527Z",
     "start_time": "2019-01-27T10:49:19.717924Z"
    }
   },
   "outputs": [
    {
     "data": {
      "text/latex": [
       "Quantum object: dims = [[5], [5]], shape = (5, 5), type = oper, isherm = True\\begin{equation*}\\left(\\begin{array}{*{11}c}0.122 & (0.097-0.009j) & 0.0 & (-0.011+0.006j) & (0.014-0.012j)\\\\(0.097+0.009j) & 0.335 & 0.0 & (-0.126+0.020j) & (-0.008-0.097j)\\\\0.0 & 0.0 & 0.208 & 0.0 & 0.0\\\\(-0.011-0.006j) & (-0.126-0.020j) & 0.0 & 0.217 & (-0.029+0.089j)\\\\(0.014+0.012j) & (-0.008+0.097j) & 0.0 & (-0.029-0.089j) & 0.118\\\\\\end{array}\\right)\\end{equation*}"
      ],
      "text/plain": [
       "Quantum object: dims = [[5], [5]], shape = (5, 5), type = oper, isherm = True\n",
       "Qobj data =\n",
       "[[ 0.12206327+0.j          0.09729866-0.00877072j  0.        +0.j\n",
       "  -0.01075031+0.0056129j   0.01360943-0.01183651j]\n",
       " [ 0.09729866+0.00877072j  0.33532848+0.j          0.        +0.j\n",
       "  -0.12573554+0.0195676j  -0.00784129-0.09691931j]\n",
       " [ 0.        +0.j          0.        +0.j          0.20834584+0.j\n",
       "   0.        +0.j          0.        +0.j        ]\n",
       " [-0.01075031-0.0056129j  -0.12573554-0.0195676j   0.        +0.j\n",
       "   0.2166856 +0.j         -0.02856112+0.08927399j]\n",
       " [ 0.01360943+0.01183651j -0.00784129+0.09691931j  0.        +0.j\n",
       "  -0.02856112-0.08927399j  0.11757682+0.j        ]]"
      ]
     },
     "execution_count": 3,
     "metadata": {},
     "output_type": "execute_result"
    }
   ],
   "source": [
    "x = rand_dm(5)\n",
    "x"
   ]
  },
  {
   "cell_type": "code",
   "execution_count": 4,
   "metadata": {
    "ExecuteTime": {
     "end_time": "2019-01-27T10:49:20.651811Z",
     "start_time": "2019-01-27T10:49:20.487124Z"
    }
   },
   "outputs": [
    {
     "data": {
      "text/latex": [
       "Quantum object: dims = [[5], [5]], shape = (5, 5), type = oper, isherm = True\\begin{equation*}\\left(\\begin{array}{*{11}c}1.136 & (0.125-0.011j) & 0.0 & (-0.021+0.008j) & (0.014-0.020j)\\\\(0.125+0.011j) & 1.422 & 0.0 & (-0.173+0.028j) & (-0.008-0.131j)\\\\0.0 & 0.0 & 1.232 & 0.0 & 0.0\\\\(-0.021-0.008j) & (-0.173-0.028j) & 0.0 & 1.258 & (-0.035+0.114j)\\\\(0.014+0.020j) & (-0.008+0.131j) & 0.0 & (-0.035-0.114j) & 1.136\\\\\\end{array}\\right)\\end{equation*}"
      ],
      "text/plain": [
       "Quantum object: dims = [[5], [5]], shape = (5, 5), type = oper, isherm = True\n",
       "Qobj data =\n",
       "[[ 1.13601149+0.j          0.12489141-0.01053894j  0.        +0.j\n",
       "  -0.02144199+0.00812246j  0.01432749-0.02002895j]\n",
       " [ 0.12489141+0.01053894j  1.42233441+0.j          0.        +0.j\n",
       "  -0.17302305+0.02843798j -0.00789685-0.13076158j]\n",
       " [ 0.        +0.j          0.        +0.j          1.23163905+0.j\n",
       "   0.        +0.j          0.        +0.j        ]\n",
       " [-0.02144199-0.00812246j -0.17302305-0.02843798j  0.        +0.j\n",
       "   1.25838006+0.j         -0.03472215+0.11402811j]\n",
       " [ 0.01432749+0.02002895j -0.00789685+0.13076158j  0.        +0.j\n",
       "  -0.03472215-0.11402811j  1.13632361+0.j        ]]"
      ]
     },
     "execution_count": 4,
     "metadata": {},
     "output_type": "execute_result"
    }
   ],
   "source": [
    "x.expm()"
   ]
  },
  {
   "cell_type": "code",
   "execution_count": 7,
   "metadata": {
    "ExecuteTime": {
     "end_time": "2019-01-27T10:49:23.238163Z",
     "start_time": "2019-01-27T10:49:23.230447Z"
    }
   },
   "outputs": [
    {
     "data": {
      "text/plain": [
       "array([[ 0.12206327+0.j        ,  0.09729866-0.00877072j,\n",
       "         0.        +0.j        , -0.01075031+0.0056129j ,\n",
       "         0.01360943-0.01183651j],\n",
       "       [ 0.09729866+0.00877072j,  0.33532848+0.j        ,\n",
       "         0.        +0.j        , -0.12573554+0.0195676j ,\n",
       "        -0.00784129-0.09691931j],\n",
       "       [ 0.        +0.j        ,  0.        +0.j        ,\n",
       "         0.20834584+0.j        ,  0.        +0.j        ,\n",
       "         0.        +0.j        ],\n",
       "       [-0.01075031-0.0056129j , -0.12573554-0.0195676j ,\n",
       "         0.        +0.j        ,  0.2166856 +0.j        ,\n",
       "        -0.02856112+0.08927399j],\n",
       "       [ 0.01360943+0.01183651j, -0.00784129+0.09691931j,\n",
       "         0.        +0.j        , -0.02856112-0.08927399j,\n",
       "         0.11757682+0.j        ]])"
      ]
     },
     "execution_count": 7,
     "metadata": {},
     "output_type": "execute_result"
    }
   ],
   "source": [
    "x_numpy = x.full()\n",
    "x_numpy"
   ]
  },
  {
   "cell_type": "code",
   "execution_count": 8,
   "metadata": {
    "ExecuteTime": {
     "end_time": "2019-01-27T10:49:23.988465Z",
     "start_time": "2019-01-27T10:49:23.978234Z"
    }
   },
   "outputs": [
    {
     "data": {
      "text/plain": [
       "array([[ 1.13601149e+00-6.40232522e-18j,  1.24891412e-01-1.05389407e-02j,\n",
       "         5.49780268e-19-1.86483198e-19j, -2.14419939e-02+8.12245780e-03j,\n",
       "         1.43274917e-02-2.00289541e-02j],\n",
       "       [ 1.24891412e-01+1.05389407e-02j,  1.42233441e+00+1.38777878e-17j,\n",
       "        -3.85208531e-18+1.71695455e-18j, -1.73023048e-01+2.84379842e-02j,\n",
       "        -7.89685366e-03-1.30761582e-01j],\n",
       "       [ 4.19665994e-18+1.64587750e-18j, -2.59392611e-17-1.98050170e-18j,\n",
       "         1.23163905e+00+6.93889390e-18j,  1.07780032e-17+4.31610694e-17j,\n",
       "         8.00066153e-17+6.57868160e-18j],\n",
       "       [-2.14419939e-02-8.12245780e-03j, -1.73023048e-01-2.84379842e-02j,\n",
       "         4.70398635e-18-4.99964116e-17j,  1.25838006e+00-5.55111512e-17j,\n",
       "        -3.47221478e-02+1.14028111e-01j],\n",
       "       [ 1.43274917e-02+2.00289541e-02j, -7.89685366e-03+1.30761582e-01j,\n",
       "         9.30883658e-17-5.18215494e-18j, -3.47221478e-02-1.14028111e-01j,\n",
       "         1.13632361e+00-8.32667268e-17j]])"
      ]
     },
     "execution_count": 8,
     "metadata": {},
     "output_type": "execute_result"
    }
   ],
   "source": [
    "calc_exp(x_numpy, 1)"
   ]
  },
  {
   "cell_type": "code",
   "execution_count": 9,
   "metadata": {
    "ExecuteTime": {
     "end_time": "2019-01-27T10:49:24.670339Z",
     "start_time": "2019-01-27T10:49:24.661832Z"
    }
   },
   "outputs": [
    {
     "data": {
      "text/latex": [
       "Quantum object: dims = [[5], [5]], shape = (5, 5), type = oper, isherm = True\\begin{equation*}\\left(\\begin{array}{*{11}c}1.136 & (0.125-0.011j) & 0.0 & (-0.021+0.008j) & (0.014-0.020j)\\\\(0.125+0.011j) & 1.422 & 0.0 & (-0.173+0.028j) & (-0.008-0.131j)\\\\0.0 & 0.0 & 1.232 & 0.0 & 0.0\\\\(-0.021-0.008j) & (-0.173-0.028j) & 0.0 & 1.258 & (-0.035+0.114j)\\\\(0.014+0.020j) & (-0.008+0.131j) & 0.0 & (-0.035-0.114j) & 1.136\\\\\\end{array}\\right)\\end{equation*}"
      ],
      "text/plain": [
       "Quantum object: dims = [[5], [5]], shape = (5, 5), type = oper, isherm = True\n",
       "Qobj data =\n",
       "[[ 1.13601149+0.j          0.12489141-0.01053894j  0.        +0.j\n",
       "  -0.02144199+0.00812246j  0.01432749-0.02002895j]\n",
       " [ 0.12489141+0.01053894j  1.42233441+0.j          0.        +0.j\n",
       "  -0.17302305+0.02843798j -0.00789685-0.13076158j]\n",
       " [ 0.        +0.j          0.        +0.j          1.23163905+0.j\n",
       "   0.        +0.j          0.        +0.j        ]\n",
       " [-0.02144199-0.00812246j -0.17302305-0.02843798j  0.        +0.j\n",
       "   1.25838006+0.j         -0.03472215+0.11402811j]\n",
       " [ 0.01432749+0.02002895j -0.00789685+0.13076158j  0.        +0.j\n",
       "  -0.03472215-0.11402811j  1.13632361+0.j        ]]"
      ]
     },
     "execution_count": 9,
     "metadata": {},
     "output_type": "execute_result"
    }
   ],
   "source": [
    "x.expm()"
   ]
  },
  {
   "cell_type": "code",
   "execution_count": 10,
   "metadata": {
    "ExecuteTime": {
     "end_time": "2019-01-27T10:49:25.436877Z",
     "start_time": "2019-01-27T10:49:25.426485Z"
    }
   },
   "outputs": [
    {
     "data": {
      "text/plain": [
       "array([[ 1.13601149+0.j        ,  0.12489141-0.01053894j,\n",
       "         0.        +0.j        , -0.02144199+0.00812246j,\n",
       "         0.01432749-0.02002895j],\n",
       "       [ 0.12489141+0.01053894j,  1.42233441+0.j        ,\n",
       "         0.        +0.j        , -0.17302305+0.02843798j,\n",
       "        -0.00789685-0.13076158j],\n",
       "       [ 0.        +0.j        ,  0.        +0.j        ,\n",
       "         1.23163905+0.j        ,  0.        +0.j        ,\n",
       "         0.        +0.j        ],\n",
       "       [-0.02144199-0.00812246j, -0.17302305-0.02843798j,\n",
       "         0.        +0.j        ,  1.25838006+0.j        ,\n",
       "        -0.03472215+0.11402811j],\n",
       "       [ 0.01432749+0.02002895j, -0.00789685+0.13076158j,\n",
       "         0.        +0.j        , -0.03472215-0.11402811j,\n",
       "         1.13632361+0.j        ]])"
      ]
     },
     "execution_count": 10,
     "metadata": {},
     "output_type": "execute_result"
    }
   ],
   "source": [
    "x.expm().full()"
   ]
  },
  {
   "cell_type": "markdown",
   "metadata": {},
   "source": [
    "x.expm() is similar to calc_exp(x_numpy, 1)"
   ]
  },
  {
   "cell_type": "code",
   "execution_count": 11,
   "metadata": {
    "ExecuteTime": {
     "end_time": "2019-01-27T10:49:26.423569Z",
     "start_time": "2019-01-27T10:49:26.418248Z"
    }
   },
   "outputs": [
    {
     "data": {
      "text/plain": [
       "array([[0.48830176, 0.98247834, 0.2512695 , 0.32168342, 0.40389209],\n",
       "       [0.74267457, 0.54323655, 0.40543321, 0.78352807, 0.71615726],\n",
       "       [0.99814929, 0.41517023, 0.86740831, 0.53930048, 0.67384954],\n",
       "       [0.46261406, 0.86882645, 0.62604063, 0.45280625, 0.09501356],\n",
       "       [0.30127412, 0.89660401, 0.19142386, 0.43544204, 0.6430131 ]])"
      ]
     },
     "execution_count": 11,
     "metadata": {},
     "output_type": "execute_result"
    }
   ],
   "source": [
    "y = random_sample((5,5))\n",
    "y"
   ]
  },
  {
   "cell_type": "code",
   "execution_count": 13,
   "metadata": {
    "ExecuteTime": {
     "end_time": "2019-01-27T10:49:27.537250Z",
     "start_time": "2019-01-27T10:49:27.529720Z"
    }
   },
   "outputs": [
    {
     "data": {
      "text/latex": [
       "Quantum object: dims = [[5], [5]], shape = (5, 5), type = oper, isherm = False\\begin{equation*}\\left(\\begin{array}{*{11}c}0.488 & 0.982 & 0.251 & 0.322 & 0.404\\\\0.743 & 0.543 & 0.405 & 0.784 & 0.716\\\\0.998 & 0.415 & 0.867 & 0.539 & 0.674\\\\0.463 & 0.869 & 0.626 & 0.453 & 0.095\\\\0.301 & 0.897 & 0.191 & 0.435 & 0.643\\\\\\end{array}\\right)\\end{equation*}"
      ],
      "text/plain": [
       "Quantum object: dims = [[5], [5]], shape = (5, 5), type = oper, isherm = False\n",
       "Qobj data =\n",
       "[[0.48830176 0.98247834 0.2512695  0.32168342 0.40389209]\n",
       " [0.74267457 0.54323655 0.40543321 0.78352807 0.71615726]\n",
       " [0.99814929 0.41517023 0.86740831 0.53930048 0.67384954]\n",
       " [0.46261406 0.86882645 0.62604063 0.45280625 0.09501356]\n",
       " [0.30127412 0.89660401 0.19142386 0.43544204 0.6430131 ]]"
      ]
     },
     "execution_count": 13,
     "metadata": {},
     "output_type": "execute_result"
    }
   ],
   "source": [
    "yq = Qobj(y)\n",
    "yq"
   ]
  },
  {
   "cell_type": "code",
   "execution_count": 14,
   "metadata": {
    "ExecuteTime": {
     "end_time": "2019-01-27T10:49:28.429079Z",
     "start_time": "2019-01-27T10:49:28.420076Z"
    }
   },
   "outputs": [
    {
     "data": {
      "text/latex": [
       "Quantum object: dims = [[5], [5]], shape = (5, 5), type = oper, isherm = False\\begin{equation*}\\left(\\begin{array}{*{11}c}3.891 & 3.946 & 2.007 & 2.471 & 2.517\\\\3.719 & 5.380 & 2.670 & 3.400 & 3.278\\\\4.419 & 4.647 & 4.451 & 3.428 & 3.604\\\\3.114 & 3.920 & 2.629 & 3.703 & 2.291\\\\2.647 & 3.867 & 1.930 & 2.576 & 3.741\\\\\\end{array}\\right)\\end{equation*}"
      ],
      "text/plain": [
       "Quantum object: dims = [[5], [5]], shape = (5, 5), type = oper, isherm = False\n",
       "Qobj data =\n",
       "[[3.89067188 3.94563805 2.00676866 2.4712963  2.51713416]\n",
       " [3.71887368 5.38002695 2.67000463 3.40027103 3.27778853]\n",
       " [4.41857927 4.64736552 4.45127535 3.42763028 3.60384129]\n",
       " [3.11421584 3.9196084  2.62888394 3.70287609 2.29067078]\n",
       " [2.64730338 3.86744447 1.93044291 2.57636832 3.7407082 ]]"
      ]
     },
     "execution_count": 14,
     "metadata": {},
     "output_type": "execute_result"
    }
   ],
   "source": [
    "yq.expm()"
   ]
  },
  {
   "cell_type": "code",
   "execution_count": 12,
   "metadata": {
    "ExecuteTime": {
     "end_time": "2019-01-27T10:49:27.046237Z",
     "start_time": "2019-01-27T10:49:27.038291Z"
    }
   },
   "outputs": [
    {
     "data": {
      "text/plain": [
       "array([[4.97988893, 4.34671263, 4.54650514, 3.67116409, 2.92284367],\n",
       "       [4.34671263, 5.77805905, 4.15051557, 4.34316727, 3.95577321],\n",
       "       [4.54650514, 4.15051557, 5.66802067, 3.85465681, 2.76650528],\n",
       "       [3.67116409, 4.34316727, 3.85465681, 4.4961276 , 3.04031065],\n",
       "       [2.92284367, 3.95577321, 2.76650528, 3.04031065, 4.02606616]])"
      ]
     },
     "execution_count": 12,
     "metadata": {},
     "output_type": "execute_result"
    }
   ],
   "source": [
    "calc_exp(y, 1)"
   ]
  },
  {
   "cell_type": "markdown",
   "metadata": {},
   "source": [
    "yq.expm() is not equal to calc_exp(y,1)"
   ]
  },
  {
   "cell_type": "code",
   "execution_count": 15,
   "metadata": {
    "ExecuteTime": {
     "end_time": "2019-01-27T11:10:28.099918Z",
     "start_time": "2019-01-27T11:10:28.070707Z"
    }
   },
   "outputs": [
    {
     "data": {
      "text/plain": [
       "array([[3.89067188+0.j, 3.94563805+0.j, 2.00676866+0.j, 2.4712963 +0.j,\n",
       "        2.51713416+0.j],\n",
       "       [3.71887368+0.j, 5.38002695+0.j, 2.67000463+0.j, 3.40027103+0.j,\n",
       "        3.27778853+0.j],\n",
       "       [4.41857927+0.j, 4.64736552+0.j, 4.45127535+0.j, 3.42763028+0.j,\n",
       "        3.60384129+0.j],\n",
       "       [3.11421584+0.j, 3.9196084 +0.j, 2.62888394+0.j, 3.70287609+0.j,\n",
       "        2.29067078+0.j],\n",
       "       [2.64730338+0.j, 3.86744447+0.j, 1.93044291+0.j, 2.57636832+0.j,\n",
       "        3.7407082 +0.j]])"
      ]
     },
     "execution_count": 15,
     "metadata": {},
     "output_type": "execute_result"
    }
   ],
   "source": [
    "yq.expm().full()"
   ]
  },
  {
   "cell_type": "markdown",
   "metadata": {},
   "source": [
    "# Errors encounteredw while preparing"
   ]
  },
  {
   "cell_type": "markdown",
   "metadata": {},
   "source": [
    "## sub topic 1"
   ]
  },
  {
   "cell_type": "code",
   "execution_count": 6,
   "metadata": {
    "ExecuteTime": {
     "end_time": "2019-01-27T10:49:22.113818Z",
     "start_time": "2019-01-27T10:49:22.106293Z"
    }
   },
   "outputs": [
    {
     "data": {
      "text/plain": [
       "'\\n---------------------------------------------------------------------------\\nValueError                                Traceback (most recent call last)\\n<ipython-input-15-8c6bf0860ea3> in <module>()\\n----> 1 calc_exp(x, 1)\\n\\n<ipython-input-11-b8d453701b72> in calc_exp(X, h)\\n      1 def calc_exp(X, h):\\n----> 2     rx, Ux = eigh(X)\\n      3     Ux_inv = inv(Ux)\\n      4     tx = diag(array([exp(h * i) for i in rx]))\\n      5     eX = Ux.dot(tx.dot(Ux_inv))\\n\\n/anaconda3/envs/qutip-env/lib/python3.6/site-packages/scipy/linalg/decomp.py in\\neigh(a, b, lower, eigvals_only, overwrite_a, overwrite_b, turbo, eigvals, type,\\ncheck_finite)\\n    372 \\n    373     \"\"\"\\n--> 374     a1 = _asarray_validated(a, check_finite=check_finite)\\n    375     if len(a1.shape) != 2 or a1.shape[0] != a1.shape[1]:\\n    376         raise ValueError(\\'expected square matrix\\')\\n\\n/anaconda3/envs/qutip-env/lib/python3.6/site-packages/scipy/_lib/_util.py in \\n_asarray_validated(a, check_finite, sparse_ok, objects_ok, mask_ok, as_inexact)\\n    239     if not objects_ok:\\n    240         if a.dtype is np.dtype(\\'O\\'):\\n--> 241             raise ValueError(\\'object arrays are not supported\\')\\n    242     if as_inexact:\\n    243         if not np.issubdtype(a.dtype, np.inexact):\\n\\nValueError: object arrays are not supported\\n'"
      ]
     },
     "execution_count": 6,
     "metadata": {},
     "output_type": "execute_result"
    }
   ],
   "source": [
    "# calc_exp(x, 1) # gives error\n",
    "'''\n",
    "---------------------------------------------------------------------------\n",
    "ValueError                                Traceback (most recent call last)\n",
    "<ipython-input-15-8c6bf0860ea3> in <module>()\n",
    "----> 1 calc_exp(x, 1)\n",
    "\n",
    "<ipython-input-11-b8d453701b72> in calc_exp(X, h)\n",
    "      1 def calc_exp(X, h):\n",
    "----> 2     rx, Ux = eigh(X)\n",
    "      3     Ux_inv = inv(Ux)\n",
    "      4     tx = diag(array([exp(h * i) for i in rx]))\n",
    "      5     eX = Ux.dot(tx.dot(Ux_inv))\n",
    "\n",
    "/anaconda3/envs/qutip-env/lib/python3.6/site-packages/scipy/linalg/decomp.py in\n",
    "eigh(a, b, lower, eigvals_only, overwrite_a, overwrite_b, turbo, eigvals, type,\n",
    "check_finite)\n",
    "    372 \n",
    "    373     \"\"\"\n",
    "--> 374     a1 = _asarray_validated(a, check_finite=check_finite)\n",
    "    375     if len(a1.shape) != 2 or a1.shape[0] != a1.shape[1]:\n",
    "    376         raise ValueError('expected square matrix')\n",
    "\n",
    "/anaconda3/envs/qutip-env/lib/python3.6/site-packages/scipy/_lib/_util.py in \n",
    "_asarray_validated(a, check_finite, sparse_ok, objects_ok, mask_ok, as_inexact)\n",
    "    239     if not objects_ok:\n",
    "    240         if a.dtype is np.dtype('O'):\n",
    "--> 241             raise ValueError('object arrays are not supported')\n",
    "    242     if as_inexact:\n",
    "    243         if not np.issubdtype(a.dtype, np.inexact):\n",
    "\n",
    "ValueError: object arrays are not supported\n",
    "'''"
   ]
  },
  {
   "cell_type": "markdown",
   "metadata": {},
   "source": [
    "## sub topic 2"
   ]
  },
  {
   "cell_type": "code",
   "execution_count": null,
   "metadata": {},
   "outputs": [],
   "source": []
  },
  {
   "cell_type": "markdown",
   "metadata": {},
   "source": [
    "## sub topic 3"
   ]
  },
  {
   "cell_type": "markdown",
   "metadata": {},
   "source": [
    "### sub sub topic 1"
   ]
  },
  {
   "cell_type": "code",
   "execution_count": null,
   "metadata": {},
   "outputs": [],
   "source": []
  },
  {
   "cell_type": "code",
   "execution_count": null,
   "metadata": {},
   "outputs": [],
   "source": []
  },
  {
   "cell_type": "code",
   "execution_count": null,
   "metadata": {},
   "outputs": [],
   "source": []
  }
 ],
 "metadata": {
  "kernelspec": {
   "display_name": "Python 3",
   "language": "python",
   "name": "python3"
  },
  "language_info": {
   "codemirror_mode": {
    "name": "ipython",
    "version": 3
   },
   "file_extension": ".py",
   "mimetype": "text/x-python",
   "name": "python",
   "nbconvert_exporter": "python",
   "pygments_lexer": "ipython3",
   "version": "3.6.8"
  },
  "toc": {
   "base_numbering": 1,
   "nav_menu": {},
   "number_sections": true,
   "sideBar": true,
   "skip_h1_title": false,
   "title_cell": "Table of Contents",
   "title_sidebar": "Contents",
   "toc_cell": false,
   "toc_position": {},
   "toc_section_display": true,
   "toc_window_display": false
  }
 },
 "nbformat": 4,
 "nbformat_minor": 2
}
