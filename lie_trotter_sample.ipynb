{
 "cells": [
  {
   "cell_type": "markdown",
   "metadata": {
    "heading_collapsed": true
   },
   "source": [
    "# Imports"
   ]
  },
  {
   "cell_type": "markdown",
   "metadata": {
    "hidden": true
   },
   "source": [
    "## Numpy imports "
   ]
  },
  {
   "cell_type": "code",
   "execution_count": 1,
   "metadata": {
    "ExecuteTime": {
     "end_time": "2018-12-30T10:51:33.719173Z",
     "start_time": "2018-12-30T10:51:33.715321Z"
    },
    "hidden": true
   },
   "outputs": [],
   "source": [
    "from numpy import sin, cos, tan, real, imag,  log, conj\n",
    "from numpy import array, append, linspace, arange\n",
    "from numpy import add, sqrt, abs, dot\n",
    "from numpy.random import random, random_sample, rand, seed\n",
    "from numpy import concatenate, trace, diag\n",
    "from numpy import ones, zeros, ones_like, zeros_like\n",
    "# from numpy import pi"
   ]
  },
  {
   "cell_type": "markdown",
   "metadata": {
    "hidden": true
   },
   "source": [
    "## Scipy imports"
   ]
  },
  {
   "cell_type": "code",
   "execution_count": 2,
   "metadata": {
    "ExecuteTime": {
     "end_time": "2018-12-30T10:49:28.097670Z",
     "start_time": "2018-12-30T10:49:28.093644Z"
    },
    "hidden": true
   },
   "outputs": [],
   "source": [
    "from scipy.integrate import ode, odeint, complex_ode\n",
    "from scipy.optimize import minimize\n",
    "from scipy.linalg import eigh, inv, norm, expm\n",
    "# from scipy.linalg import \n",
    "# from scipy import"
   ]
  },
  {
   "cell_type": "markdown",
   "metadata": {
    "hidden": true
   },
   "source": [
    "## Matplotlib imports"
   ]
  },
  {
   "cell_type": "code",
   "execution_count": 3,
   "metadata": {
    "ExecuteTime": {
     "end_time": "2018-12-30T12:40:18.509947Z",
     "start_time": "2018-12-30T12:40:18.491987Z"
    },
    "hidden": true
   },
   "outputs": [],
   "source": [
    "from matplotlib.pyplot import plot, figure, show, savefig, axes\n",
    "from matplotlib.pyplot import xlabel, ylabel, title, legend\n",
    "from matplotlib import rcParams\n",
    "from matplotlib.pyplot import style \n",
    "from matplotlib.pyplot import xlim, ylim, axis \n",
    "# beware not same as axes\n",
    "from matplotlib.pyplot import subplot, subplots, text\n",
    "from matplotlib.pyplot import GridSpec\n",
    "from matplotlib.pyplot import scatter, colorbar\n",
    "\n",
    "\n",
    "pgf_with_rc_fonts = {\"pgf.texsystem\": \"pdflatex\"}\n",
    "rcParams.update(pgf_with_rc_fonts)\n",
    "style.use('seaborn-whitegrid')\n",
    "\n"
   ]
  },
  {
   "cell_type": "markdown",
   "metadata": {
    "hidden": true
   },
   "source": [
    "## Math imports"
   ]
  },
  {
   "cell_type": "code",
   "execution_count": 4,
   "metadata": {
    "ExecuteTime": {
     "end_time": "2018-12-30T10:49:31.035525Z",
     "start_time": "2018-12-30T10:49:31.028537Z"
    },
    "hidden": true
   },
   "outputs": [],
   "source": [
    "from math import pi\n",
    "from math import exp"
   ]
  },
  {
   "cell_type": "markdown",
   "metadata": {
    "hidden": true
   },
   "source": [
    "## Cmath imports"
   ]
  },
  {
   "cell_type": "code",
   "execution_count": null,
   "metadata": {
    "hidden": true
   },
   "outputs": [],
   "source": []
  },
  {
   "cell_type": "markdown",
   "metadata": {
    "hidden": true
   },
   "source": [
    "## Date and datetime imports"
   ]
  },
  {
   "cell_type": "code",
   "execution_count": 5,
   "metadata": {
    "ExecuteTime": {
     "end_time": "2018-12-30T10:49:32.944829Z",
     "start_time": "2018-12-30T10:49:32.940813Z"
    },
    "hidden": true
   },
   "outputs": [],
   "source": [
    "from datetime import date\n",
    "from datetime import datetime# now\n"
   ]
  },
  {
   "cell_type": "markdown",
   "metadata": {
    "hidden": true
   },
   "source": [
    "## Os imports"
   ]
  },
  {
   "cell_type": "code",
   "execution_count": 6,
   "metadata": {
    "ExecuteTime": {
     "end_time": "2018-12-30T10:49:34.096029Z",
     "start_time": "2018-12-30T10:49:34.092636Z"
    },
    "hidden": true
   },
   "outputs": [],
   "source": [
    "from os import getcwd, mkdir, chdir\n",
    "from os.path import abspath, join \n"
   ]
  },
  {
   "cell_type": "markdown",
   "metadata": {
    "hidden": true
   },
   "source": [
    "## Sympy imports"
   ]
  },
  {
   "cell_type": "code",
   "execution_count": 7,
   "metadata": {
    "ExecuteTime": {
     "end_time": "2018-12-30T10:49:34.968835Z",
     "start_time": "2018-12-30T10:49:34.964610Z"
    },
    "hidden": true
   },
   "outputs": [],
   "source": [
    "from sympy import Function, dsolve, Eq, Derivative, symbols\n",
    "# x, y, z, t = symbols('x y z t')\n",
    "# k, m, n = symbols('k m n', integer=True)\n",
    "# f, g, h = symbols('f g h', cls=Function)"
   ]
  },
  {
   "cell_type": "markdown",
   "metadata": {
    "hidden": true
   },
   "source": [
    "## Miscellaneous imports"
   ]
  },
  {
   "cell_type": "code",
   "execution_count": null,
   "metadata": {
    "hidden": true
   },
   "outputs": [],
   "source": []
  },
  {
   "cell_type": "markdown",
   "metadata": {
    "hidden": true
   },
   "source": [
    "## Extra useful functions"
   ]
  },
  {
   "cell_type": "code",
   "execution_count": 8,
   "metadata": {
    "ExecuteTime": {
     "end_time": "2018-12-30T10:49:37.380514Z",
     "start_time": "2018-12-30T10:49:37.376716Z"
    },
    "hidden": true
   },
   "outputs": [],
   "source": [
    "def rint(x):\n",
    "    print(\"x = \", x)\n",
    "    return None"
   ]
  },
  {
   "cell_type": "markdown",
   "metadata": {
    "heading_collapsed": true
   },
   "source": [
    "# Lie_trotter code"
   ]
  },
  {
   "cell_type": "markdown",
   "metadata": {
    "heading_collapsed": true,
    "hidden": true
   },
   "source": [
    "## parameters"
   ]
  },
  {
   "cell_type": "code",
   "execution_count": 9,
   "metadata": {
    "ExecuteTime": {
     "end_time": "2018-12-30T10:49:39.364050Z",
     "start_time": "2018-12-30T10:49:39.360261Z"
    },
    "hidden": true
   },
   "outputs": [],
   "source": [
    "d = 2"
   ]
  },
  {
   "cell_type": "markdown",
   "metadata": {
    "hidden": true
   },
   "source": [
    "## code functions"
   ]
  },
  {
   "cell_type": "code",
   "execution_count": 10,
   "metadata": {
    "ExecuteTime": {
     "end_time": "2018-12-30T10:57:02.171821Z",
     "start_time": "2018-12-30T10:57:01.931503Z"
    },
    "hidden": true
   },
   "outputs": [],
   "source": [
    "#import numpy as np\n",
    "#import math\n",
    "#from scipy import linalg\n",
    "\n",
    "def calc_exp(X, h):\n",
    "    rx, Ux = eigh(X)\n",
    "    Ux_inv = inv(Ux)\n",
    "    tx = diag(array([exp(h * i) for i in rx]))\n",
    "    eX = Ux.dot(tx.dot(Ux_inv))\n",
    "    return eX\n",
    "\n",
    "def trotter(X,Y,Z,h,n):\n",
    "    eZ = calc_exp(Z,h)\n",
    "    eX = calc_exp(X,h/n)\n",
    "    eY = calc_exp(Y,h/n)\n",
    "    S = diag(ones(d))\n",
    "    eXeY = eX.dot(eY)\n",
    "    for i in range(n):\n",
    "        S = S.dot(eXeY)\n",
    "    return norm(eZ - S)/norm(eZ)\n",
    "\n",
    "def trotter2nd(X,Y,Z,h,n):\n",
    "    eZ = calc_exp(Z,h)\n",
    "    eX = calc_exp(X,h/n*0.5)\n",
    "    eY = calc_exp(Y,h/n)\n",
    "    S = diag(ones(d))\n",
    "    eXeYeX = eX.dot(eY.dot(eX))\n",
    "    for i in range(n):\n",
    "        S = S.dot(eXeYeX)\n",
    "    return norm(eZ - S)/norm(eZ)\n",
    "\n",
    "\n",
    "seed(1)\n",
    "x1 = random_sample((d,d))\n",
    "x2 = random_sample((d,d))\n",
    "X = x1.dot(x1.T)\n",
    "Y = x2.dot(x2.T)\n",
    "Z = X + Y\n",
    "\n",
    "\n"
   ]
  },
  {
   "cell_type": "code",
   "execution_count": 11,
   "metadata": {
    "ExecuteTime": {
     "end_time": "2018-12-30T10:57:17.945144Z",
     "start_time": "2018-12-30T10:57:17.936639Z"
    },
    "hidden": true
   },
   "outputs": [
    {
     "data": {
      "text/plain": [
       "array([[4.17022005e-01, 7.20324493e-01],\n",
       "       [1.14374817e-04, 3.02332573e-01]])"
      ]
     },
     "execution_count": 11,
     "metadata": {},
     "output_type": "execute_result"
    }
   ],
   "source": [
    "x1"
   ]
  },
  {
   "cell_type": "code",
   "execution_count": 12,
   "metadata": {
    "ExecuteTime": {
     "end_time": "2018-12-30T10:57:44.055698Z",
     "start_time": "2018-12-30T10:57:44.050785Z"
    },
    "hidden": true
   },
   "outputs": [
    {
     "data": {
      "text/plain": [
       "array([[0.14675589, 0.09233859],\n",
       "       [0.18626021, 0.34556073]])"
      ]
     },
     "execution_count": 12,
     "metadata": {},
     "output_type": "execute_result"
    }
   ],
   "source": [
    "x2"
   ]
  },
  {
   "cell_type": "code",
   "execution_count": 13,
   "metadata": {
    "ExecuteTime": {
     "end_time": "2018-12-30T10:57:53.423265Z",
     "start_time": "2018-12-30T10:57:53.418507Z"
    },
    "hidden": true
   },
   "outputs": [
    {
     "data": {
      "text/plain": [
       "array([[0.69277473, 0.21782525],\n",
       "       [0.21782525, 0.091405  ]])"
      ]
     },
     "execution_count": 13,
     "metadata": {},
     "output_type": "execute_result"
    }
   ],
   "source": [
    "X"
   ]
  },
  {
   "cell_type": "code",
   "execution_count": 14,
   "metadata": {
    "ExecuteTime": {
     "end_time": "2018-12-30T10:57:56.580695Z",
     "start_time": "2018-12-30T10:57:56.576241Z"
    },
    "hidden": true
   },
   "outputs": [
    {
     "data": {
      "text/plain": [
       "array([[0.03006371, 0.05924338],\n",
       "       [0.05924338, 0.15410508]])"
      ]
     },
     "execution_count": 14,
     "metadata": {},
     "output_type": "execute_result"
    }
   ],
   "source": [
    "Y"
   ]
  },
  {
   "cell_type": "code",
   "execution_count": 15,
   "metadata": {
    "ExecuteTime": {
     "end_time": "2018-12-30T10:58:00.748559Z",
     "start_time": "2018-12-30T10:58:00.742643Z"
    },
    "hidden": true
   },
   "outputs": [
    {
     "data": {
      "text/plain": [
       "array([[0.72283844, 0.27706863],\n",
       "       [0.27706863, 0.24551008]])"
      ]
     },
     "execution_count": 15,
     "metadata": {},
     "output_type": "execute_result"
    }
   ],
   "source": [
    "Z"
   ]
  },
  {
   "cell_type": "markdown",
   "metadata": {
    "heading_collapsed": true
   },
   "source": [
    "# Plots of error "
   ]
  },
  {
   "cell_type": "markdown",
   "metadata": {
    "heading_collapsed": true,
    "hidden": true
   },
   "source": [
    "## n dependence plots"
   ]
  },
  {
   "cell_type": "code",
   "execution_count": 16,
   "metadata": {
    "ExecuteTime": {
     "end_time": "2018-12-30T11:26:57.581071Z",
     "start_time": "2018-12-30T11:26:57.576072Z"
    },
    "hidden": true
   },
   "outputs": [],
   "source": [
    "n_vec = arange(100) + 1"
   ]
  },
  {
   "cell_type": "code",
   "execution_count": 17,
   "metadata": {
    "ExecuteTime": {
     "end_time": "2018-12-30T11:26:58.099824Z",
     "start_time": "2018-12-30T11:26:58.095212Z"
    },
    "hidden": true
   },
   "outputs": [
    {
     "data": {
      "text/plain": [
       "array([  1,   2,   3,   4,   5,   6,   7,   8,   9,  10,  11,  12,  13,\n",
       "        14,  15,  16,  17,  18,  19,  20,  21,  22,  23,  24,  25,  26,\n",
       "        27,  28,  29,  30,  31,  32,  33,  34,  35,  36,  37,  38,  39,\n",
       "        40,  41,  42,  43,  44,  45,  46,  47,  48,  49,  50,  51,  52,\n",
       "        53,  54,  55,  56,  57,  58,  59,  60,  61,  62,  63,  64,  65,\n",
       "        66,  67,  68,  69,  70,  71,  72,  73,  74,  75,  76,  77,  78,\n",
       "        79,  80,  81,  82,  83,  84,  85,  86,  87,  88,  89,  90,  91,\n",
       "        92,  93,  94,  95,  96,  97,  98,  99, 100])"
      ]
     },
     "execution_count": 17,
     "metadata": {},
     "output_type": "execute_result"
    }
   ],
   "source": [
    "n_vec"
   ]
  },
  {
   "cell_type": "code",
   "execution_count": 18,
   "metadata": {
    "ExecuteTime": {
     "end_time": "2018-12-30T11:26:59.568667Z",
     "start_time": "2018-12-30T11:26:59.524131Z"
    },
    "hidden": true
   },
   "outputs": [],
   "source": [
    "n_error_1 = array([ trotter(X, Y, Z, 1.0, n_i) for n_i in n_vec])\n",
    "    "
   ]
  },
  {
   "cell_type": "code",
   "execution_count": 19,
   "metadata": {
    "ExecuteTime": {
     "end_time": "2018-12-30T11:27:02.464182Z",
     "start_time": "2018-12-30T11:27:02.457583Z"
    },
    "hidden": true
   },
   "outputs": [
    {
     "data": {
      "text/plain": [
       "array([0.02860811, 0.01419363, 0.00944849, 0.00708269, 0.00566479,\n",
       "       0.00472004, 0.00404543, 0.00353957, 0.00314618, 0.00283149,\n",
       "       0.00257403, 0.00235949, 0.00217797, 0.00202238, 0.00188755,\n",
       "       0.00176956, 0.00166546, 0.00157293, 0.00149014, 0.00141563,\n",
       "       0.00134822, 0.00128693, 0.00123097, 0.00117968, 0.00113249,\n",
       "       0.00108893, 0.0010486 , 0.00101115, 0.00097628, 0.00094374,\n",
       "       0.0009133 , 0.00088475, 0.00085794, 0.00083271, 0.00080892,\n",
       "       0.00078645, 0.00076519, 0.00074505, 0.00072595, 0.0007078 ,\n",
       "       0.00069054, 0.0006741 , 0.00065842, 0.00064345, 0.00062916,\n",
       "       0.00061548, 0.00060238, 0.00058983, 0.0005778 , 0.00056624,\n",
       "       0.00055514, 0.00054446, 0.00053419, 0.0005243 , 0.00051476,\n",
       "       0.00050557, 0.0004967 , 0.00048814, 0.00047986, 0.00047187,\n",
       "       0.00046413, 0.00045664, 0.0004494 , 0.00044237, 0.00043557,\n",
       "       0.00042897, 0.00042257, 0.00041635, 0.00041032, 0.00040446,\n",
       "       0.00039876, 0.00039322, 0.00038783, 0.00038259, 0.00037749,\n",
       "       0.00037252, 0.00036769, 0.00036297, 0.00035838, 0.0003539 ,\n",
       "       0.00034953, 0.00034527, 0.00034111, 0.00033705, 0.00033308,\n",
       "       0.00032921, 0.00032542, 0.00032173, 0.00031811, 0.00031458,\n",
       "       0.00031112, 0.00030774, 0.00030443, 0.00030119, 0.00029802,\n",
       "       0.00029492, 0.00029187, 0.0002889 , 0.00028598, 0.00028312])"
      ]
     },
     "execution_count": 19,
     "metadata": {},
     "output_type": "execute_result"
    }
   ],
   "source": [
    "n_error_1"
   ]
  },
  {
   "cell_type": "code",
   "execution_count": 20,
   "metadata": {
    "ExecuteTime": {
     "end_time": "2018-12-30T14:34:48.481171Z",
     "start_time": "2018-12-30T14:34:48.088809Z"
    },
    "hidden": true
   },
   "outputs": [
    {
     "data": {
      "text/plain": [
       "<matplotlib.legend.Legend at 0x11c6f89b0>"
      ]
     },
     "execution_count": 20,
     "metadata": {},
     "output_type": "execute_result"
    },
    {
     "data": {
      "image/png": "[encoded data removed]",
      "text/plain": [
       "<Figure size 432x288 with 1 Axes>"
      ]
     },
     "metadata": {
      "needs_background": "light"
     },
     "output_type": "display_data"
    }
   ],
   "source": [
    "ax = axes()\n",
    "ax.loglog(n_vec, n_error_1,\n",
    "          color='white', markeredgecolor='purple', marker='o',  markersize=10 )\n",
    "ax.loglog(n_vec, 1/n_vec*(n_error_1[0]/n_vec[0]), label = '1/n')\n",
    "ax.set(xlim=(1, 1e2), ylim=(1e-4, 1e0),\n",
    "       xlabel='n', ylabel='Error',\n",
    "       title='Error in n using first order trotter');\n",
    "ax.legend()\n"
   ]
  },
  {
   "cell_type": "code",
   "execution_count": 21,
   "metadata": {
    "ExecuteTime": {
     "end_time": "2018-12-30T11:28:15.502321Z",
     "start_time": "2018-12-30T11:28:15.458290Z"
    },
    "hidden": true
   },
   "outputs": [],
   "source": [
    "n_error_2 = array([ trotter2nd(X, Y, Z, 1.0, n_i) for n_i in n_vec])"
   ]
  },
  {
   "cell_type": "code",
   "execution_count": 22,
   "metadata": {
    "ExecuteTime": {
     "end_time": "2018-12-30T11:28:26.248371Z",
     "start_time": "2018-12-30T11:28:26.242166Z"
    },
    "hidden": true
   },
   "outputs": [
    {
     "data": {
      "text/plain": [
       "array([1.77891558e-03, 4.49175646e-04, 2.00003128e-04, 1.12574654e-04,\n",
       "       7.20693884e-05, 5.00563413e-05, 3.67797009e-05, 2.81612543e-05,\n",
       "       2.22518405e-05, 1.80245545e-05, 1.48966707e-05, 1.25175617e-05,\n",
       "       1.06659975e-05, 9.19680186e-06, 8.01150654e-06, 7.04141370e-06,\n",
       "       6.23741393e-06, 5.56364695e-06, 4.99343273e-06, 4.50658927e-06,\n",
       "       4.08762198e-06, 3.72447549e-06, 3.40765663e-06, 3.12960776e-06,\n",
       "       2.88425174e-06, 2.66665717e-06, 2.47278851e-06, 2.29931778e-06,\n",
       "       2.14348064e-06, 2.00296566e-06, 1.87582808e-06, 1.76042219e-06,\n",
       "       1.65534777e-06, 1.55940744e-06, 1.47157239e-06, 1.39095467e-06,\n",
       "       1.31678468e-06, 1.24839277e-06, 1.18519395e-06, 1.12667550e-06,\n",
       "       1.07238639e-06, 1.02192867e-06, 9.74950137e-07, 9.31138115e-07,\n",
       "       8.90214288e-07, 8.51930269e-07, 8.16063797e-07, 7.82415527e-07,\n",
       "       7.50806248e-07, 7.21074474e-07, 6.93074423e-07, 6.66674158e-07,\n",
       "       6.41754102e-07, 6.18205607e-07, 5.95929866e-07, 5.74836780e-07,\n",
       "       5.54844076e-07, 5.35876517e-07, 5.17865244e-07, 5.00746970e-07,\n",
       "       4.84463682e-07, 4.68961888e-07, 4.54192430e-07, 4.40109854e-07,\n",
       "       4.26672199e-07, 4.13840758e-07, 4.01579513e-07, 3.89855238e-07,\n",
       "       3.78636994e-07, 3.67896093e-07, 3.57605835e-07, 3.47741351e-07,\n",
       "       3.38279479e-07, 3.29198578e-07, 3.20478499e-07, 3.12100356e-07,\n",
       "       3.04046525e-07, 2.96300446e-07, 2.88846651e-07, 2.81670606e-07,\n",
       "       2.74758740e-07, 2.68098188e-07, 2.61676926e-07, 2.55483609e-07,\n",
       "       2.49507612e-07, 2.43738841e-07, 2.38167871e-07, 2.32785713e-07,\n",
       "       2.27583982e-07, 2.22554659e-07, 2.17690245e-07, 2.12983583e-07,\n",
       "       2.08427918e-07, 2.04016913e-07, 1.99744393e-07, 1.95604723e-07,\n",
       "       1.91592436e-07, 1.87702336e-07, 1.83929518e-07, 1.80269308e-07])"
      ]
     },
     "execution_count": 22,
     "metadata": {},
     "output_type": "execute_result"
    }
   ],
   "source": [
    "n_error_2"
   ]
  },
  {
   "cell_type": "code",
   "execution_count": 23,
   "metadata": {
    "ExecuteTime": {
     "end_time": "2018-12-30T14:35:37.605825Z",
     "start_time": "2018-12-30T14:35:37.182589Z"
    },
    "hidden": true
   },
   "outputs": [
    {
     "data": {
      "text/plain": [
       "<matplotlib.legend.Legend at 0x1211e59e8>"
      ]
     },
     "execution_count": 23,
     "metadata": {},
     "output_type": "execute_result"
    },
    {
     "data": {
      "image/png": "[encoded data removed]",
      "text/plain": [
       "<Figure size 432x288 with 1 Axes>"
      ]
     },
     "metadata": {
      "needs_background": "light"
     },
     "output_type": "display_data"
    }
   ],
   "source": [
    "ax = axes()\n",
    "ax.loglog(n_vec, n_error_2,\n",
    "          color='white', markeredgecolor='purple', marker='o',  markersize=10 )\n",
    "ax.loglog(n_vec, 1/(n_vec**2)*(n_error_2[0]/n_vec[0]), label = '1/n**2')\n",
    "ax.set(xlim=(1, 1e2), ylim=(1e-7, 1e-2),\n",
    "       xlabel='n', ylabel='Error',\n",
    "       title='Error in n using second order trotter');\n",
    "ax.legend()\n",
    "\n"
   ]
  },
  {
   "cell_type": "markdown",
   "metadata": {
    "heading_collapsed": true,
    "hidden": true
   },
   "source": [
    "## h dependence plots"
   ]
  },
  {
   "cell_type": "code",
   "execution_count": 24,
   "metadata": {
    "ExecuteTime": {
     "end_time": "2018-12-30T13:17:25.142296Z",
     "start_time": "2018-12-30T13:17:25.136431Z"
    },
    "hidden": true
   },
   "outputs": [],
   "source": [
    "h_vec = (arange(100) + 1)/100"
   ]
  },
  {
   "cell_type": "code",
   "execution_count": 25,
   "metadata": {
    "ExecuteTime": {
     "end_time": "2018-12-30T13:17:33.389572Z",
     "start_time": "2018-12-30T13:17:33.383340Z"
    },
    "hidden": true
   },
   "outputs": [
    {
     "data": {
      "text/plain": [
       "array([0.01, 0.02, 0.03, 0.04, 0.05, 0.06, 0.07, 0.08, 0.09, 0.1 , 0.11,\n",
       "       0.12, 0.13, 0.14, 0.15, 0.16, 0.17, 0.18, 0.19, 0.2 , 0.21, 0.22,\n",
       "       0.23, 0.24, 0.25, 0.26, 0.27, 0.28, 0.29, 0.3 , 0.31, 0.32, 0.33,\n",
       "       0.34, 0.35, 0.36, 0.37, 0.38, 0.39, 0.4 , 0.41, 0.42, 0.43, 0.44,\n",
       "       0.45, 0.46, 0.47, 0.48, 0.49, 0.5 , 0.51, 0.52, 0.53, 0.54, 0.55,\n",
       "       0.56, 0.57, 0.58, 0.59, 0.6 , 0.61, 0.62, 0.63, 0.64, 0.65, 0.66,\n",
       "       0.67, 0.68, 0.69, 0.7 , 0.71, 0.72, 0.73, 0.74, 0.75, 0.76, 0.77,\n",
       "       0.78, 0.79, 0.8 , 0.81, 0.82, 0.83, 0.84, 0.85, 0.86, 0.87, 0.88,\n",
       "       0.89, 0.9 , 0.91, 0.92, 0.93, 0.94, 0.95, 0.96, 0.97, 0.98, 0.99,\n",
       "       1.  ])"
      ]
     },
     "execution_count": 25,
     "metadata": {},
     "output_type": "execute_result"
    }
   ],
   "source": [
    "h_vec"
   ]
  },
  {
   "cell_type": "code",
   "execution_count": 26,
   "metadata": {
    "ExecuteTime": {
     "end_time": "2018-12-30T13:23:19.814275Z",
     "start_time": "2018-12-30T13:23:19.771574Z"
    },
    "hidden": true
   },
   "outputs": [],
   "source": [
    "h_error_n1_1 = array([ trotter(X, Y, Z, h_i, 1) for h_i in h_vec])"
   ]
  },
  {
   "cell_type": "code",
   "execution_count": 27,
   "metadata": {
    "ExecuteTime": {
     "end_time": "2018-12-30T13:23:38.959620Z",
     "start_time": "2018-12-30T13:23:38.953604Z"
    },
    "hidden": true
   },
   "outputs": [
    {
     "data": {
      "text/plain": [
       "array([3.13229425e-06, 1.25287981e-05, 2.81883749e-05, 5.01091309e-05,\n",
       "       7.82884165e-05, 1.12722827e-04, 1.53408204e-04, 2.00339639e-04,\n",
       "       2.53511474e-04, 3.12917306e-04, 3.78549988e-04, 4.50401636e-04,\n",
       "       5.28463628e-04, 6.12726612e-04, 7.03180510e-04, 7.99814523e-04,\n",
       "       9.02617134e-04, 1.01157612e-03, 1.12667854e-03, 1.24791077e-03,\n",
       "       1.37525848e-03, 1.50870668e-03, 1.64823967e-03, 1.79384110e-03,\n",
       "       1.94549395e-03, 2.10318054e-03, 2.26688257e-03, 2.43658107e-03,\n",
       "       2.61225645e-03, 2.79388851e-03, 2.98145644e-03, 3.17493881e-03,\n",
       "       3.37431363e-03, 3.57955829e-03, 3.79064965e-03, 4.00756398e-03,\n",
       "       4.23027702e-03, 4.45876395e-03, 4.69299944e-03, 4.93295763e-03,\n",
       "       5.17861217e-03, 5.42993621e-03, 5.68690240e-03, 5.94948295e-03,\n",
       "       6.21764958e-03, 6.49137358e-03, 6.77062581e-03, 7.05537668e-03,\n",
       "       7.34559623e-03, 7.64125407e-03, 7.94231942e-03, 8.24876115e-03,\n",
       "       8.56054774e-03, 8.87764735e-03, 9.20002778e-03, 9.52765651e-03,\n",
       "       9.86050072e-03, 1.01985273e-02, 1.05417027e-02, 1.08899934e-02,\n",
       "       1.12433654e-02, 1.16017844e-02, 1.19652161e-02, 1.23336257e-02,\n",
       "       1.27069783e-02, 1.30852389e-02, 1.34683722e-02, 1.38563427e-02,\n",
       "       1.42491147e-02, 1.46466526e-02, 1.50489204e-02, 1.54558820e-02,\n",
       "       1.58675012e-02, 1.62837418e-02, 1.67045674e-02, 1.71299414e-02,\n",
       "       1.75598274e-02, 1.79941887e-02, 1.84329887e-02, 1.88761906e-02,\n",
       "       1.93237577e-02, 1.97756532e-02, 2.02318403e-02, 2.06922822e-02,\n",
       "       2.11569421e-02, 2.16257833e-02, 2.20987690e-02, 2.25758624e-02,\n",
       "       2.30570270e-02, 2.35422260e-02, 2.40314229e-02, 2.45245813e-02,\n",
       "       2.50216646e-02, 2.55226365e-02, 2.60274608e-02, 2.65361013e-02,\n",
       "       2.70485220e-02, 2.75646870e-02, 2.80845604e-02, 2.86081065e-02])"
      ]
     },
     "execution_count": 27,
     "metadata": {},
     "output_type": "execute_result"
    }
   ],
   "source": [
    "h_error_n1_1"
   ]
  },
  {
   "cell_type": "code",
   "execution_count": 28,
   "metadata": {
    "ExecuteTime": {
     "end_time": "2018-12-30T13:41:38.426186Z",
     "start_time": "2018-12-30T13:41:38.383480Z"
    },
    "hidden": true
   },
   "outputs": [],
   "source": [
    "h_error_n2_1 = array([ trotter(X, Y, Z, h_i, 2) for h_i in h_vec])"
   ]
  },
  {
   "cell_type": "code",
   "execution_count": 29,
   "metadata": {
    "ExecuteTime": {
     "end_time": "2018-12-30T13:41:38.426186Z",
     "start_time": "2018-12-30T13:41:38.383480Z"
    },
    "hidden": true
   },
   "outputs": [],
   "source": [
    "h_error_n4_1 = array([ trotter(X, Y, Z, h_i, 4) for h_i in h_vec])"
   ]
  },
  {
   "cell_type": "code",
   "execution_count": 30,
   "metadata": {
    "ExecuteTime": {
     "end_time": "2018-12-30T14:40:25.325635Z",
     "start_time": "2018-12-30T14:40:24.801847Z"
    },
    "hidden": true
   },
   "outputs": [
    {
     "data": {
      "text/plain": [
       "<matplotlib.legend.Legend at 0x12151dda0>"
      ]
     },
     "execution_count": 30,
     "metadata": {},
     "output_type": "execute_result"
    },
    {
     "data": {
      "image/png": "[encoded data removed]",
      "text/plain": [
       "<Figure size 432x288 with 1 Axes>"
      ]
     },
     "metadata": {
      "needs_background": "light"
     },
     "output_type": "display_data"
    }
   ],
   "source": [
    "ax = axes()\n",
    "ax.loglog(h_vec, h_error_n1_1, label = 'n=1', color='white',\n",
    "          markeredgecolor='purple', marker='+',  markersize=7 )\n",
    "\n",
    "ax.loglog(h_vec, h_error_n2_1, label = 'n=2', color='white',\n",
    "          markeredgecolor='green', marker='x',  markersize=7 )\n",
    "\n",
    "ax.loglog(h_vec, h_error_n4_1, label = 'n=4', color='white',\n",
    "          markeredgecolor='lightblue', marker='*',  markersize=7 )\n",
    "ax.loglog(h_vec, ((h_vec**2)*(h_error_n4_1[0]/(h_vec[0]**2))), \n",
    "          label = 'h**2', color='black')\n",
    "ax.set(xlim=(1e-2, 1e0), ylim=(1e-7, 1e-1),\n",
    "       xlabel='h', ylabel='Error',\n",
    "       title='Error in h using first order trotter');\n",
    "ax.legend()"
   ]
  },
  {
   "cell_type": "code",
   "execution_count": 31,
   "metadata": {
    "ExecuteTime": {
     "end_time": "2018-12-30T14:40:25.325635Z",
     "start_time": "2018-12-30T14:40:24.801847Z"
    },
    "hidden": true
   },
   "outputs": [
    {
     "data": {
      "text/plain": [
       "array([1.000e-04, 4.000e-04, 9.000e-04, 1.600e-03, 2.500e-03, 3.600e-03,\n",
       "       4.900e-03, 6.400e-03, 8.100e-03, 1.000e-02, 1.210e-02, 1.440e-02,\n",
       "       1.690e-02, 1.960e-02, 2.250e-02, 2.560e-02, 2.890e-02, 3.240e-02,\n",
       "       3.610e-02, 4.000e-02, 4.410e-02, 4.840e-02, 5.290e-02, 5.760e-02,\n",
       "       6.250e-02, 6.760e-02, 7.290e-02, 7.840e-02, 8.410e-02, 9.000e-02,\n",
       "       9.610e-02, 1.024e-01, 1.089e-01, 1.156e-01, 1.225e-01, 1.296e-01,\n",
       "       1.369e-01, 1.444e-01, 1.521e-01, 1.600e-01, 1.681e-01, 1.764e-01,\n",
       "       1.849e-01, 1.936e-01, 2.025e-01, 2.116e-01, 2.209e-01, 2.304e-01,\n",
       "       2.401e-01, 2.500e-01, 2.601e-01, 2.704e-01, 2.809e-01, 2.916e-01,\n",
       "       3.025e-01, 3.136e-01, 3.249e-01, 3.364e-01, 3.481e-01, 3.600e-01,\n",
       "       3.721e-01, 3.844e-01, 3.969e-01, 4.096e-01, 4.225e-01, 4.356e-01,\n",
       "       4.489e-01, 4.624e-01, 4.761e-01, 4.900e-01, 5.041e-01, 5.184e-01,\n",
       "       5.329e-01, 5.476e-01, 5.625e-01, 5.776e-01, 5.929e-01, 6.084e-01,\n",
       "       6.241e-01, 6.400e-01, 6.561e-01, 6.724e-01, 6.889e-01, 7.056e-01,\n",
       "       7.225e-01, 7.396e-01, 7.569e-01, 7.744e-01, 7.921e-01, 8.100e-01,\n",
       "       8.281e-01, 8.464e-01, 8.649e-01, 8.836e-01, 9.025e-01, 9.216e-01,\n",
       "       9.409e-01, 9.604e-01, 9.801e-01, 1.000e+00])"
      ]
     },
     "execution_count": 31,
     "metadata": {},
     "output_type": "execute_result"
    }
   ],
   "source": [
    "h_vec**2"
   ]
  },
  {
   "cell_type": "code",
   "execution_count": 32,
   "metadata": {
    "ExecuteTime": {
     "end_time": "2018-12-30T13:41:38.426186Z",
     "start_time": "2018-12-30T13:41:38.383480Z"
    },
    "hidden": true
   },
   "outputs": [],
   "source": [
    "h_error_n1_2 = array([ trotter2nd(X, Y, Z, h_i, 1) for h_i in h_vec])"
   ]
  },
  {
   "cell_type": "code",
   "execution_count": 33,
   "metadata": {
    "ExecuteTime": {
     "end_time": "2018-12-30T13:41:38.426186Z",
     "start_time": "2018-12-30T13:41:38.383480Z"
    },
    "hidden": true
   },
   "outputs": [],
   "source": [
    "h_error_n2_2 = array([ trotter2nd(X, Y, Z, h_i, 2) for h_i in h_vec])"
   ]
  },
  {
   "cell_type": "code",
   "execution_count": 34,
   "metadata": {
    "ExecuteTime": {
     "end_time": "2018-12-30T13:41:38.426186Z",
     "start_time": "2018-12-30T13:41:38.383480Z"
    },
    "hidden": true
   },
   "outputs": [],
   "source": [
    "h_error_n4_2 = array([ trotter2nd(X, Y, Z, h_i, 4) for h_i in h_vec])"
   ]
  },
  {
   "cell_type": "code",
   "execution_count": 35,
   "metadata": {
    "ExecuteTime": {
     "end_time": "2018-12-30T14:40:25.325635Z",
     "start_time": "2018-12-30T14:40:24.801847Z"
    },
    "hidden": true
   },
   "outputs": [
    {
     "data": {
      "text/plain": [
       "<matplotlib.legend.Legend at 0x12165d4a8>"
      ]
     },
     "execution_count": 35,
     "metadata": {},
     "output_type": "execute_result"
    },
    {
     "data": {
      "image/png": "[encoded data removed]",
      "text/plain": [
       "<Figure size 432x288 with 1 Axes>"
      ]
     },
     "metadata": {
      "needs_background": "light"
     },
     "output_type": "display_data"
    }
   ],
   "source": [
    "ax = axes()\n",
    "ax.loglog(h_vec, h_error_n1_2, label = 'n=1', color='white',\n",
    "          markeredgecolor='purple', marker='+',  markersize=7 )\n",
    "\n",
    "ax.loglog(h_vec, h_error_n2_2, label = 'n=2', color='white',\n",
    "          markeredgecolor='green', marker='x',  markersize=7 )\n",
    "\n",
    "ax.loglog(h_vec, h_error_n4_2, label = 'n=4', color='white',\n",
    "          markeredgecolor='lightblue', marker='*',  markersize=7 )\n",
    "ax.loglog(h_vec, ((h_vec**3)*(h_error_n4_2[0]/(h_vec[0]**3))), \n",
    "          label = 'h**3', color='black')\n",
    "ax.set(xlim=(1e-2, 1e0), ylim=(1e-10, 1e-2),\n",
    "       xlabel='h', ylabel='Error',\n",
    "       title='Error in h using second order trotter');\n",
    "ax.legend()"
   ]
  },
  {
   "cell_type": "code",
   "execution_count": null,
   "metadata": {
    "ExecuteTime": {
     "end_time": "2018-12-30T14:40:25.325635Z",
     "start_time": "2018-12-30T14:40:24.801847Z"
    },
    "hidden": true
   },
   "outputs": [],
   "source": []
  },
  {
   "cell_type": "markdown",
   "metadata": {
    "heading_collapsed": true
   },
   "source": [
    "# Actual original code which uses gnuplot"
   ]
  },
  {
   "cell_type": "markdown",
   "metadata": {
    "hidden": true
   },
   "source": [
    "### sub sub topic 1"
   ]
  },
  {
   "cell_type": "code",
   "execution_count": 36,
   "metadata": {
    "hidden": true
   },
   "outputs": [],
   "source": [
    "def n_dependence(X,Y,Z,h,order):\n",
    "    filename = \"n_%x.dat\" % order\n",
    "    t = trotter if order == 1 else trotter2nd\n",
    "    print(filename)\n",
    "    f = open(filename,'w')\n",
    "    for i in range(100):\n",
    "        n = i+1\n",
    "        f.write(str(n) + \" \" +  str(t(X,Y,Z,h,n)))\n",
    "        f.write(\"\\n\")\n",
    "    f.close()\n",
    "\n",
    "def h_dependence(X,Y,Z,n, order):\n",
    "    t = trotter if order == 1 else trotter2nd\n",
    "    filename = \"h%x_%x.dat\" %(n, order)\n",
    "    print(filename)\n",
    "    f = open(filename,'w')\n",
    "    for i in range(100):\n",
    "        h = (i+1)/100.0\n",
    "        f.write(str(h) + \" \" +  str(t(X,Y,Z,h,n)))\n",
    "        f.write(\"\\n\")\n",
    "    f.close()\n",
    "\n",
    "\n"
   ]
  },
  {
   "cell_type": "code",
   "execution_count": 37,
   "metadata": {
    "hidden": true
   },
   "outputs": [
    {
     "name": "stdout",
     "output_type": "stream",
     "text": [
      "n_1.dat\n",
      "n_2.dat\n",
      "h1_1.dat\n",
      "h2_1.dat\n",
      "h4_1.dat\n",
      "h1_2.dat\n",
      "h2_2.dat\n",
      "h4_2.dat\n"
     ]
    }
   ],
   "source": [
    "n_dependence(X,Y,Z,1.0,1)\n",
    "n_dependence(X,Y,Z,1.0,2)\n",
    "\n",
    "h_dependence(X,Y,Z,1,1)\n",
    "h_dependence(X,Y,Z,2,1)\n",
    "h_dependence(X,Y,Z,4,1)\n",
    "\n",
    "h_dependence(X,Y,Z,1,2)\n",
    "h_dependence(X,Y,Z,2,2)\n",
    "h_dependence(X,Y,Z,4,2)\n",
    "\n"
   ]
  },
  {
   "cell_type": "code",
   "execution_count": null,
   "metadata": {
    "hidden": true
   },
   "outputs": [],
   "source": []
  },
  {
   "cell_type": "markdown",
   "metadata": {
    "heading_collapsed": true
   },
   "source": [
    "# My various errors while preparing"
   ]
  },
  {
   "cell_type": "code",
   "execution_count": 39,
   "metadata": {
    "ExecuteTime": {
     "end_time": "2018-12-30T12:53:14.454984Z",
     "start_time": "2018-12-30T12:53:13.997955Z"
    },
    "hidden": true
   },
   "outputs": [
    {
     "data": {
      "text/plain": [
       "<matplotlib.legend.Legend at 0x12194a908>"
      ]
     },
     "execution_count": 39,
     "metadata": {},
     "output_type": "execute_result"
    },
    {
     "data": {
      "image/png": "[encoded data removed]",
      "text/plain": [
       "<Figure size 432x288 with 1 Axes>"
      ]
     },
     "metadata": {
      "needs_background": "light"
     },
     "output_type": "display_data"
    }
   ],
   "source": [
    "ax = axes()\n",
    "ax.loglog(n_vec, n_error_1, )\n",
    "ax.loglog(n_vec, 1/n_vec, label = '1/n')\n",
    "ax.set(xlim=(1, 1e2), ylim=(1e-4, 1e0),\n",
    "       xlabel='n', ylabel='Error',\n",
    "       title='Error in n using first order trotter');\n",
    "ax.legend()\n",
    "\n"
   ]
  },
  {
   "cell_type": "code",
   "execution_count": 40,
   "metadata": {
    "ExecuteTime": {
     "end_time": "2018-12-30T12:53:35.735831Z",
     "start_time": "2018-12-30T12:53:35.368219Z"
    },
    "hidden": true
   },
   "outputs": [
    {
     "data": {
      "text/plain": [
       "<matplotlib.legend.Legend at 0x121837e10>"
      ]
     },
     "execution_count": 40,
     "metadata": {},
     "output_type": "execute_result"
    },
    {
     "data": {
      "image/png": "[encoded data removed]",
      "text/plain": [
       "<Figure size 432x288 with 1 Axes>"
      ]
     },
     "metadata": {
      "needs_background": "light"
     },
     "output_type": "display_data"
    }
   ],
   "source": [
    "ax = axes()\n",
    "ax.loglog(n_vec, n_error_1, )\n",
    "ax.loglog(n_vec, 1/n_vec*n_error_1[0], label = '1/n')\n",
    "ax.set(xlim=(1, 1e2), ylim=(1e-4, 1e0),\n",
    "       xlabel='n', ylabel='Error',\n",
    "       title='Error in n using first order trotter');\n",
    "ax.legend()\n",
    "\n"
   ]
  },
  {
   "cell_type": "code",
   "execution_count": 41,
   "metadata": {
    "ExecuteTime": {
     "end_time": "2018-12-30T13:03:48.065365Z",
     "start_time": "2018-12-30T13:03:47.683227Z"
    },
    "hidden": true
   },
   "outputs": [
    {
     "data": {
      "text/plain": [
       "<matplotlib.legend.Legend at 0x121afad30>"
      ]
     },
     "execution_count": 41,
     "metadata": {},
     "output_type": "execute_result"
    },
    {
     "data": {
      "image/png": "[encoded data removed]",
      "text/plain": [
       "<Figure size 432x288 with 1 Axes>"
      ]
     },
     "metadata": {
      "needs_background": "light"
     },
     "output_type": "display_data"
    }
   ],
   "source": [
    "ax = axes()\n",
    "ax.loglog(n_vec, n_error_1, color='purple', marker='o',  markersize=12 )\n",
    "ax.loglog(n_vec, 1/n_vec*n_error_1[0], label = '1/n')\n",
    "ax.set(xlim=(1, 1e2), ylim=(1e-4, 1e0),\n",
    "       xlabel='n', ylabel='Error',\n",
    "       title='Error in n using first order trotter');\n",
    "ax.legend()\n",
    "\n"
   ]
  },
  {
   "cell_type": "code",
   "execution_count": 42,
   "metadata": {
    "ExecuteTime": {
     "end_time": "2018-12-30T13:03:55.669795Z",
     "start_time": "2018-12-30T13:03:55.113643Z"
    },
    "hidden": true
   },
   "outputs": [
    {
     "data": {
      "text/plain": [
       "<matplotlib.legend.Legend at 0x121d65c88>"
      ]
     },
     "execution_count": 42,
     "metadata": {},
     "output_type": "execute_result"
    },
    {
     "data": {
      "image/png": "[encoded data removed]",
      "text/plain": [
       "<Figure size 432x288 with 1 Axes>"
      ]
     },
     "metadata": {
      "needs_background": "light"
     },
     "output_type": "display_data"
    }
   ],
   "source": [
    "ax = axes()\n",
    "ax.loglog(n_vec, n_error_1, color='purple', marker='o',  markersize=10 )\n",
    "ax.loglog(n_vec, 1/n_vec*n_error_1[0], label = '1/n')\n",
    "ax.set(xlim=(1, 1e2), ylim=(1e-4, 1e0),\n",
    "       xlabel='n', ylabel='Error',\n",
    "       title='Error in n using first order trotter');\n",
    "ax.legend()\n",
    "\n"
   ]
  },
  {
   "cell_type": "code",
   "execution_count": 43,
   "metadata": {
    "ExecuteTime": {
     "end_time": "2018-12-30T13:41:48.732868Z",
     "start_time": "2018-12-30T13:41:48.293839Z"
    },
    "hidden": true
   },
   "outputs": [
    {
     "data": {
      "text/plain": [
       "<matplotlib.legend.Legend at 0x121ae9278>"
      ]
     },
     "execution_count": 43,
     "metadata": {},
     "output_type": "execute_result"
    },
    {
     "data": {
      "image/png": "[encoded data removed]",
      "text/plain": [
       "<Figure size 432x288 with 1 Axes>"
      ]
     },
     "metadata": {
      "needs_background": "light"
     },
     "output_type": "display_data"
    }
   ],
   "source": [
    "ax = axes()\n",
    "ax.loglog(h_vec, h_error_n1_1, label = 'n=1',\n",
    "          color='purple', marker='+',  markersize=7 )\n",
    "\n",
    "ax.loglog(h_vec, h_error_n2_1, label = 'n=2',\n",
    "          color='green', marker='x',  markersize=7 )\n",
    "\n",
    "ax.loglog(h_vec, h_error_n4_1, label = 'n=4',\n",
    "          color='blue', marker='*',  markersize=7 )\n",
    "ax.loglog(n_vec, (h_vec**2)*h_error_n4_1[0], label = 'h**2')\n",
    "ax.set(xlim=(1e-2, 1e0), ylim=(1e-7, 1e-2),\n",
    "       xlabel='h', ylabel='Error',\n",
    "       title='Error in h using second order trotter');\n",
    "ax.legend()\n",
    "\n",
    "\n",
    "\n"
   ]
  },
  {
   "cell_type": "code",
   "execution_count": 44,
   "metadata": {
    "ExecuteTime": {
     "end_time": "2018-12-30T13:48:49.670574Z",
     "start_time": "2018-12-30T13:48:49.135568Z"
    },
    "hidden": true
   },
   "outputs": [
    {
     "data": {
      "text/plain": [
       "<matplotlib.legend.Legend at 0x12211bda0>"
      ]
     },
     "execution_count": 44,
     "metadata": {},
     "output_type": "execute_result"
    },
    {
     "data": {
      "image/png": "[encoded data removed]",
      "text/plain": [
       "<Figure size 432x288 with 1 Axes>"
      ]
     },
     "metadata": {
      "needs_background": "light"
     },
     "output_type": "display_data"
    }
   ],
   "source": [
    "ax = axes()\n",
    "ax.loglog(h_vec, h_error_n1_1, label = 'n=1',\n",
    "          color='purple', marker='+',  markersize=7 )\n",
    "\n",
    "ax.loglog(h_vec, h_error_n2_1, label = 'n=2',\n",
    "          color='green', marker='x',  markersize=7 )\n",
    "\n",
    "ax.loglog(h_vec, h_error_n4_1, label = 'n=4',\n",
    "          color='lightblue', marker='*',  markersize=7 )\n",
    "ax.loglog(n_vec, (h_vec**2)*h_error_n4_1[0], label = 'h**2')\n",
    "ax.set(xlim=(1e-2, 1e0), ylim=(1e-7, 1e-2),\n",
    "       xlabel='h', ylabel='Error',\n",
    "       title='Error in h using second order trotter');\n",
    "ax.legend()\n",
    "\n",
    "\n",
    "\n"
   ]
  },
  {
   "cell_type": "code",
   "execution_count": null,
   "metadata": {
    "ExecuteTime": {
     "end_time": "2018-12-30T13:51:01.848181Z",
     "start_time": "2018-12-30T13:51:01.410760Z"
    },
    "hidden": true
   },
   "outputs": [],
   "source": [
    "ax = axes()\n",
    "ax.loglog(h_vec, h_error_n1_1, label = 'n=1',\n",
    "          markerfacecolor='purple', marker='+',  markersize=7 )\n",
    "\n",
    "ax.loglog(h_vec, h_error_n2_1, label = 'n=2',\n",
    "          color='green', marker='x',  markersize=7 )\n",
    "\n",
    "ax.loglog(h_vec, h_error_n4_1, label = 'n=4',\n",
    "          color='lightblue', marker='*',  markersize=7 )\n",
    "ax.loglog(n_vec, (h_vec**2)*h_error_n4_1[0], label = 'h**2')\n",
    "ax.set(xlim=(1e-2, 1e0), ylim=(1e-7, 1e-2),\n",
    "       xlabel='h', ylabel='Error',\n",
    "       title='Error in h using second order trotter');\n",
    "ax.legend()\n",
    "\n",
    "\n"
   ]
  },
  {
   "cell_type": "code",
   "execution_count": null,
   "metadata": {
    "ExecuteTime": {
     "end_time": "2018-12-30T13:55:28.743626Z",
     "start_time": "2018-12-30T13:55:27.920585Z"
    },
    "hidden": true
   },
   "outputs": [],
   "source": [
    "ax = axes()\n",
    "ax.loglog(h_vec, h_error_n1_1, label = 'n=1',\n",
    "          markeredgecolor='purple', marker='+',  markersize=7 )\n",
    "\n",
    "ax.loglog(h_vec, h_error_n2_1, label = 'n=2',\n",
    "          markeredgecolor='green', marker='x',  markersize=7 )\n",
    "\n",
    "ax.loglog(h_vec, h_error_n4_1, label = 'n=4',\n",
    "          markeredgecolor='lightblue', marker='*',  markersize=7 )\n",
    "ax.loglog(n_vec, (h_vec**2)*h_error_n4_1[0], label = 'h**2')\n",
    "ax.set(xlim=(1e-2, 1e0), ylim=(1e-7, 1e-2),\n",
    "       xlabel='h', ylabel='Error',\n",
    "       title='Error in h using second order trotter');\n",
    "ax.legend()\n",
    "\n"
   ]
  },
  {
   "cell_type": "code",
   "execution_count": null,
   "metadata": {
    "ExecuteTime": {
     "end_time": "2018-12-30T13:57:31.928963Z",
     "start_time": "2018-12-30T13:57:31.488002Z"
    },
    "hidden": true
   },
   "outputs": [],
   "source": [
    "ax = axes()\n",
    "ax.loglog(h_vec, h_error_n1_1, label = 'n=1', color='white',\n",
    "          markeredgecolor='purple', marker='+',  markersize=7 )\n",
    "\n",
    "ax.loglog(h_vec, h_error_n2_1, label = 'n=2', color='white',\n",
    "          markeredgecolor='green', marker='x',  markersize=7 )\n",
    "\n",
    "ax.loglog(h_vec, h_error_n4_1, label = 'n=4', color='white',\n",
    "          markeredgecolor='lightblue', marker='*',  markersize=7 )\n",
    "ax.loglog(n_vec, (h_vec**2)*h_error_n4_1[0], label = 'h**2')\n",
    "ax.set(xlim=(1e-2, 1e0), ylim=(1e-7, 1e-2),\n",
    "       xlabel='h', ylabel='Error',\n",
    "       title='Error in h using second order trotter');\n",
    "ax.legend()\n",
    "\n"
   ]
  },
  {
   "cell_type": "code",
   "execution_count": null,
   "metadata": {
    "ExecuteTime": {
     "end_time": "2018-12-30T13:59:14.867847Z",
     "start_time": "2018-12-30T13:59:14.437776Z"
    },
    "hidden": true
   },
   "outputs": [],
   "source": [
    "ax = axes()\n",
    "ax.loglog(h_vec, h_error_n1_1, label = 'n=1', color='white',\n",
    "          markeredgecolor='purple', marker='+',  markersize=7 )\n",
    "\n",
    "ax.loglog(h_vec, h_error_n2_1, label = 'n=2', color='white',\n",
    "          markeredgecolor='green', marker='x',  markersize=7 )\n",
    "\n",
    "ax.loglog(h_vec, h_error_n4_1, label = 'n=4', color='white',\n",
    "          markeredgecolor='lightblue', marker='*',  markersize=7 )\n",
    "ax.loglog(n_vec, (h_vec**2)*h_error_n4_1[0], label = 'h**2', color='black')\n",
    "ax.set(xlim=(1e-2, 1e0), ylim=(1e-7, 1e-2),\n",
    "       xlabel='h', ylabel='Error',\n",
    "       title='Error in h using second order trotter');\n",
    "ax.legend()\n",
    "\n"
   ]
  },
  {
   "cell_type": "code",
   "execution_count": null,
   "metadata": {
    "ExecuteTime": {
     "end_time": "2018-12-30T14:01:54.493642Z",
     "start_time": "2018-12-30T14:01:54.006708Z"
    },
    "hidden": true
   },
   "outputs": [],
   "source": [
    "ax = axes()\n",
    "ax.loglog(h_vec, h_error_n1_1, label = 'n=1', color='white',\n",
    "          markeredgecolor='purple', marker='+',  markersize=7 )\n",
    "\n",
    "ax.loglog(h_vec, h_error_n2_1, label = 'n=2', color='white',\n",
    "          markeredgecolor='green', marker='x',  markersize=7 )\n",
    "\n",
    "ax.loglog(h_vec, h_error_n4_1, label = 'n=4', color='white',\n",
    "          markeredgecolor='lightblue', marker='*',  markersize=7 )\n",
    "ax.loglog(n_vec, (h_vec**2)*h_error_n4_1[0], label = 'h**2', color='black')\n",
    "ax.set(xlim=(1e-1, 1e0), ylim=(1e-7, 1e-2),\n",
    "       xlabel='h', ylabel='Error',\n",
    "       title='Error in h using second order trotter');\n",
    "ax.legend()\n",
    "\n"
   ]
  },
  {
   "cell_type": "code",
   "execution_count": null,
   "metadata": {
    "ExecuteTime": {
     "end_time": "2018-12-30T14:03:47.624367Z",
     "start_time": "2018-12-30T14:03:47.175956Z"
    },
    "hidden": true
   },
   "outputs": [],
   "source": [
    "ax = axes()\n",
    "ax.loglog(h_vec, h_error_n1_1, label = 'n=1', color='white',\n",
    "          markeredgecolor='purple', marker='+',  markersize=7 )\n",
    "\n",
    "ax.loglog(h_vec, h_error_n2_1, label = 'n=2', color='white',\n",
    "          markeredgecolor='green', marker='x',  markersize=7 )\n",
    "\n",
    "ax.loglog(h_vec, h_error_n4_1, label = 'n=4', color='white',\n",
    "          markeredgecolor='lightblue', marker='*',  markersize=7 )\n",
    "ax.loglog(n_vec, (h_vec**2)*h_error_n4_1[0], label = 'h**2', color='black')\n",
    "ax.set(xlim=(1e-2, 1e0), ylim=(1e-7, 1e-1),\n",
    "       xlabel='h', ylabel='Error',\n",
    "       title='Error in h using second order trotter');\n",
    "ax.legend()\n",
    "\n"
   ]
  },
  {
   "cell_type": "code",
   "execution_count": null,
   "metadata": {
    "hidden": true
   },
   "outputs": [],
   "source": [
    "color='white',"
   ]
  },
  {
   "cell_type": "code",
   "execution_count": null,
   "metadata": {
    "ExecuteTime": {
     "end_time": "2018-12-30T14:11:25.324678Z",
     "start_time": "2018-12-30T14:11:24.877265Z"
    },
    "hidden": true
   },
   "outputs": [],
   "source": [
    "ax = axes()\n",
    "ax.loglog(h_vec, h_error_n1_1, label = 'n=1', color='white',\n",
    "          markeredgecolor='purple', marker='+',  markersize=7 )\n",
    "\n",
    "ax.loglog(h_vec, h_error_n2_1, label = 'n=2', color='white',\n",
    "          markeredgecolor='green', marker='x',  markersize=7 )\n",
    "\n",
    "ax.loglog(h_vec, h_error_n4_1, label = 'n=4', color='red',\n",
    "          markeredgecolor='lightblue', marker='*',  markersize=7 )\n",
    "ax.loglog(n_vec, h_vec**2/h_error_n4_1[0], label = 'h**2', color='black')\n",
    "ax.set(xlim=(1e-2, 1e0), ylim=(1e-7, 1e-1),\n",
    "       xlabel='h', ylabel='Error',\n",
    "       title='Error in h using second order trotter');\n",
    "ax.legend()\n",
    "\n"
   ]
  },
  {
   "cell_type": "code",
   "execution_count": null,
   "metadata": {
    "ExecuteTime": {
     "end_time": "2018-12-30T14:12:37.251717Z",
     "start_time": "2018-12-30T14:12:36.794759Z"
    },
    "hidden": true
   },
   "outputs": [],
   "source": [
    "ax = axes()\n",
    "ax.loglog(h_vec, h_error_n1_1, label = 'n=1', color='white',\n",
    "          markeredgecolor='purple', marker='+',  markersize=7 )\n",
    "\n",
    "ax.loglog(h_vec, h_error_n2_1, label = 'n=2', color='white',\n",
    "          markeredgecolor='green', marker='x',  markersize=7 )\n",
    "\n",
    "ax.loglog(h_vec, h_error_n4_1, label = 'n=4', color='red',\n",
    "          markeredgecolor='lightblue', marker='*',  markersize=7 )\n",
    "ax.loglog(h_vec, h_vec**2/h_error_n4_1[0], label = 'h**2', color='black')\n",
    "ax.set(xlim=(1e-2, 1e0), ylim=(1e-7, 1e-1),\n",
    "       xlabel='h', ylabel='Error',\n",
    "       title='Error in h using second order trotter');\n",
    "ax.legend()\n",
    "\n"
   ]
  },
  {
   "cell_type": "code",
   "execution_count": null,
   "metadata": {
    "ExecuteTime": {
     "end_time": "2018-12-30T14:13:23.636314Z",
     "start_time": "2018-12-30T14:13:23.011071Z"
    },
    "hidden": true
   },
   "outputs": [],
   "source": [
    "ax = axes()\n",
    "ax.loglog(h_vec, h_error_n1_1, label = 'n=1', color='white',\n",
    "          markeredgecolor='purple', marker='+',  markersize=7 )\n",
    "\n",
    "ax.loglog(h_vec, h_error_n2_1, label = 'n=2', color='white',\n",
    "          markeredgecolor='green', marker='x',  markersize=7 )\n",
    "\n",
    "ax.loglog(h_vec, h_error_n4_1, label = 'n=4', color='red',\n",
    "          markeredgecolor='lightblue', marker='*',  markersize=7 )\n",
    "ax.loglog(h_vec, h_vec**2, label = 'h**2', color='black')\n",
    "ax.set(xlim=(1e-2, 1e0), ylim=(1e-7, 1e-1),\n",
    "       xlabel='h', ylabel='Error',\n",
    "       title='Error in h using second order trotter');\n",
    "ax.legend()\n",
    "\n"
   ]
  },
  {
   "cell_type": "code",
   "execution_count": null,
   "metadata": {
    "ExecuteTime": {
     "end_time": "2018-12-30T14:14:51.463782Z",
     "start_time": "2018-12-30T14:14:51.020457Z"
    },
    "hidden": true
   },
   "outputs": [],
   "source": [
    "ax = axes()\n",
    "ax.loglog(h_vec, h_error_n1_1, label = 'n=1', color='white',\n",
    "          markeredgecolor='purple', marker='+',  markersize=7 )\n",
    "\n",
    "ax.loglog(h_vec, h_error_n2_1, label = 'n=2', color='white',\n",
    "          markeredgecolor='green', marker='x',  markersize=7 )\n",
    "\n",
    "ax.loglog(h_vec, h_error_n4_1, label = 'n=4', color='white',\n",
    "          markeredgecolor='lightblue', marker='*',  markersize=7 )\n",
    "ax.loglog(h_vec, h_vec**2, label = 'h**2', color='black')\n",
    "ax.set(xlim=(1e-2, 1e0), ylim=(1e-7, 1e-1),\n",
    "       xlabel='h', ylabel='Error',\n",
    "       title='Error in h using second order trotter');\n",
    "ax.legend()\n",
    "\n"
   ]
  },
  {
   "cell_type": "code",
   "execution_count": null,
   "metadata": {
    "hidden": true
   },
   "outputs": [],
   "source": [
    "h_vec**2"
   ]
  },
  {
   "cell_type": "code",
   "execution_count": null,
   "metadata": {
    "ExecuteTime": {
     "end_time": "2018-12-30T14:22:13.865655Z",
     "start_time": "2018-12-30T14:22:13.400081Z"
    },
    "hidden": true
   },
   "outputs": [],
   "source": [
    "ax = axes()\n",
    "ax.loglog(h_vec, h_error_n1_1, label = 'n=1', color='white',\n",
    "          markeredgecolor='purple', marker='+',  markersize=7 )\n",
    "\n",
    "ax.loglog(h_vec, h_error_n2_1, label = 'n=2', color='white',\n",
    "          markeredgecolor='green', marker='x',  markersize=7 )\n",
    "\n",
    "ax.loglog(h_vec, h_error_n4_1, label = 'n=4', color='white',\n",
    "          markeredgecolor='lightblue', marker='*',  markersize=7 )\n",
    "ax.loglog(h_vec, ((h_vec**2)/h_error_n4_1[0]), label = 'h**2', color='black')\n",
    "ax.set(xlim=(1e-2, 1e0), ylim=(1e-7, 1e-1),\n",
    "       xlabel='h', ylabel='Error',\n",
    "       title='Error in h using second order trotter');\n",
    "ax.legend()\n",
    "\n"
   ]
  },
  {
   "cell_type": "code",
   "execution_count": null,
   "metadata": {
    "ExecuteTime": {
     "end_time": "2018-12-30T14:29:31.202392Z",
     "start_time": "2018-12-30T14:29:30.752536Z"
    },
    "hidden": true
   },
   "outputs": [],
   "source": [
    "ax = axes()\n",
    "ax.loglog(h_vec, h_error_n1_1, label = 'n=1', color='white',\n",
    "          markeredgecolor='purple', marker='+',  markersize=7 )\n",
    "\n",
    "ax.loglog(h_vec, h_error_n2_1, label = 'n=2', color='white',\n",
    "          markeredgecolor='green', marker='x',  markersize=7 )\n",
    "\n",
    "ax.loglog(h_vec, h_error_n4_1, label = 'n=4', color='white',\n",
    "          markeredgecolor='lightblue', marker='*',  markersize=7 )\n",
    "ax.loglog(h_vec, ((h_vec**2)*(h_error_n4_1[0]/(h_vec[0]))), \n",
    "          label = 'h**2', color='black')\n",
    "ax.set(xlim=(1e-2, 1e0), ylim=(1e-7, 1e-1),\n",
    "       xlabel='h', ylabel='Error',\n",
    "       title='Error in h using second order trotter');\n",
    "ax.legend()\n",
    "\n"
   ]
  },
  {
   "cell_type": "code",
   "execution_count": null,
   "metadata": {
    "ExecuteTime": {
     "end_time": "2018-12-30T14:30:49.445830Z",
     "start_time": "2018-12-30T14:30:49.018802Z"
    },
    "hidden": true
   },
   "outputs": [],
   "source": [
    "ax = axes()\n",
    "ax.loglog(n_vec, n_error_2,\n",
    "          color='white', markeredgecolor='purple', marker='o',  markersize=10 )\n",
    "ax.loglog(n_vec, 1/(n_vec**2)*n_error_2[0], label = '1/n**2')\n",
    "ax.set(xlim=(1, 1e2), ylim=(1e-7, 1e-2),\n",
    "       xlabel='n', ylabel='Error',\n",
    "       title='Error in n using second order trotter');\n",
    "ax.legend()\n",
    "\n",
    "\n"
   ]
  },
  {
   "cell_type": "code",
   "execution_count": null,
   "metadata": {
    "ExecuteTime": {
     "end_time": "2018-12-30T14:31:38.339953Z",
     "start_time": "2018-12-30T14:31:37.956469Z"
    },
    "hidden": true
   },
   "outputs": [],
   "source": [
    "ax = axes()\n",
    "ax.loglog(n_vec, n_error_1,\n",
    "          color='white', markeredgecolor='purple', marker='o',  markersize=10 )\n",
    "ax.loglog(n_vec, 1/n_vec*n_error_1[0], label = '1/n')\n",
    "ax.set(xlim=(1, 1e2), ylim=(1e-4, 1e0),\n",
    "       xlabel='n', ylabel='Error',\n",
    "       title='Error in n using first order trotter');\n",
    "ax.legend()\n",
    "\n"
   ]
  },
  {
   "cell_type": "code",
   "execution_count": null,
   "metadata": {
    "ExecuteTime": {
     "end_time": "2018-12-30T14:38:53.041940Z",
     "start_time": "2018-12-30T14:38:52.588480Z"
    },
    "hidden": true
   },
   "outputs": [],
   "source": [
    "ax = axes()\n",
    "ax.loglog(h_vec, h_error_n1_1, label = 'n=1', color='white',\n",
    "          markeredgecolor='purple', marker='+',  markersize=7 )\n",
    "\n",
    "ax.loglog(h_vec, h_error_n2_1, label = 'n=2', color='white',\n",
    "          markeredgecolor='green', marker='x',  markersize=7 )\n",
    "\n",
    "ax.loglog(h_vec, h_error_n4_1, label = 'n=4', color='white',\n",
    "          markeredgecolor='lightblue', marker='*',  markersize=7 )\n",
    "ax.loglog(h_vec, ((h_vec**2)*(h_error_n4_1[0]/(h_vec[0]**2))), \n",
    "          label = 'h**2', color='black')\n",
    "ax.set(xlim=(1e-2, 1e0), ylim=(1e-7, 1e-1),\n",
    "       xlabel='h', ylabel='Error',\n",
    "       title='Error in h using second order trotter');\n",
    "ax.legend()"
   ]
  },
  {
   "cell_type": "code",
   "execution_count": null,
   "metadata": {
    "hidden": true
   },
   "outputs": [],
   "source": []
  },
  {
   "cell_type": "code",
   "execution_count": null,
   "metadata": {},
   "outputs": [],
   "source": []
  }
 ],
 "metadata": {
  "kernelspec": {
   "display_name": "Python 3",
   "language": "python",
   "name": "python3"
  },
  "language_info": {
   "codemirror_mode": {
    "name": "ipython",
    "version": 3
   },
   "file_extension": ".py",
   "mimetype": "text/x-python",
   "name": "python",
   "nbconvert_exporter": "python",
   "pygments_lexer": "ipython3",
   "version": "3.7.1"
  },
  "toc": {
   "base_numbering": 1,
   "nav_menu": {},
   "number_sections": true,
   "sideBar": true,
   "skip_h1_title": false,
   "title_cell": "Table of Contents",
   "title_sidebar": "Contents",
   "toc_cell": false,
   "toc_position": {},
   "toc_section_display": true,
   "toc_window_display": false
  }
 },
 "nbformat": 4,
 "nbformat_minor": 2
}
