{
 "cells": [
  {
   "cell_type": "markdown",
   "metadata": {
    "heading_collapsed": true
   },
   "source": [
    "# Imports"
   ]
  },
  {
   "cell_type": "code",
   "execution_count": 10,
   "metadata": {
    "ExecuteTime": {
     "end_time": "2019-01-27T10:29:37.654470Z",
     "start_time": "2019-01-27T10:29:36.982015Z"
    },
    "hidden": true
   },
   "outputs": [],
   "source": [
    "# # Imports\n",
    "\n",
    "# ## Qutip imports 1\n",
    "\n",
    "# In[1]:\n",
    "\n",
    "\n",
    "from qutip.operators import sigmax, sigmay, sigmaz, identity\n",
    "from qutip.operators import position, momentum, num, create, destroy, commutator, qeye \n",
    "from qutip.tensor import tensor\n",
    "from qutip.qip.gates import swap, rx, ry, rz\n",
    "from qutip.qobj import Qobj\n",
    "from qutip.visualization import hinton\n",
    "from qutip.visualization import matrix_histogram_complex, matrix_histogram\n",
    "from qutip.random_objects import rand_herm, rand_unitary, rand_dm\n",
    "\n",
    "\n",
    "# ## Qutip imports 2\n",
    "\n",
    "# In[3]:\n",
    "\n",
    "\n",
    "#from \n",
    "\n",
    "\n",
    "# ## Numpy imports \n",
    "\n",
    "# In[2]:\n",
    "\n",
    "\n",
    "from numpy import sin, cos, tan, real, imag,  log, conj\n",
    "from numpy import array, append, linspace, arange\n",
    "from numpy import add, sqrt, abs, dot\n",
    "from numpy.random import random, random_sample, rand, seed, RandomState\n",
    "from numpy import concatenate, trace, diag\n",
    "from numpy import ones, zeros, ones_like, zeros_like\n",
    "from numpy import amax, amin, nanmax, nanmin\n",
    "from numpy import outer, multiply\n",
    "# from numpy import pi\n",
    "\n",
    "\n",
    "# ## Scipy imports\n",
    "\n",
    "# In[17]:\n",
    "\n",
    "\n",
    "from scipy.integrate import ode, odeint, complex_ode\n",
    "from scipy.optimize import minimize\n",
    "from scipy.linalg import eigh, inv, norm, expm\n",
    "# from scipy.linalg import \n",
    "# from scipy import\n",
    "\n",
    "\n",
    "# ## Matplotlib imports\n",
    "\n",
    "# In[18]:\n",
    "\n",
    "\n",
    "from matplotlib.pyplot import plot, figure, show, savefig, axes\n",
    "from matplotlib.pyplot import xlabel, ylabel, title, legend\n",
    "from matplotlib import rcParams\n",
    "from matplotlib.pyplot import style \n",
    "from matplotlib.pyplot import xlim, ylim, axis \n",
    "# beware not same as axes\n",
    "from matplotlib.pyplot import subplot, subplots, text\n",
    "from matplotlib.pyplot import GridSpec\n",
    "from matplotlib.pyplot import scatter, colorbar\n",
    "\n",
    "\n",
    "pgf_with_rc_fonts = {\"pgf.texsystem\": \"pdflatex\"}\n",
    "rcParams.update(pgf_with_rc_fonts)\n",
    "style.use('seaborn-whitegrid')\n",
    "\n",
    "\n",
    "# ## Math imports\n",
    "\n",
    "# In[19]:\n",
    "\n",
    "\n",
    "from math import pi\n",
    "from math import exp\n",
    "\n",
    "\n",
    "# ## Cmath imports\n",
    "\n",
    "# ## Date and datetime imports\n",
    "\n",
    "# In[20]:\n",
    "\n",
    "\n",
    "from datetime import date\n",
    "from datetime import datetime# now\n",
    "\n",
    "\n",
    "# ## Os imports\n",
    "\n",
    "# In[21]:\n",
    "\n",
    "\n",
    "from os import getcwd, mkdir, chdir\n",
    "from os.path import abspath, join \n",
    "\n",
    "\n",
    "# ## Sympy imports\n",
    "\n",
    "# In[22]:\n",
    "\n",
    "\n",
    "from sympy import Function, dsolve, Eq, Derivative, symbols\n",
    "# x, y, z, t = symbols('x y z t')\n",
    "# k, m, n = symbols('k m n', integer=True)\n",
    "# f, g, h = symbols('f g h', cls=Function)\n",
    "\n",
    "\n",
    "# ## Miscellaneous imports\n",
    "\n",
    "# ## Extra useful functions\n",
    "\n",
    "# In[23]:\n",
    "\n",
    "\n",
    "def rint(x):\n",
    "    print(\"x = \", x)\n",
    "    return None\n",
    "\n",
    "\n",
    "# # Next chapter\n",
    "\n",
    "# ## sub topic 1\n",
    "\n",
    "# ## sub topic 2\n",
    "\n",
    "# ## sub topic 3\n",
    "\n",
    "# ### sub sub topic 1\n",
    "\n"
   ]
  },
  {
   "cell_type": "markdown",
   "metadata": {},
   "source": [
    "# Trotter "
   ]
  },
  {
   "cell_type": "markdown",
   "metadata": {},
   "source": [
    "# Some  experimentation "
   ]
  },
  {
   "cell_type": "code",
   "execution_count": 11,
   "metadata": {
    "ExecuteTime": {
     "end_time": "2019-01-27T10:29:38.331509Z",
     "start_time": "2019-01-27T10:29:38.327762Z"
    }
   },
   "outputs": [],
   "source": [
    "def calc_exp(X, h):\n",
    "    rx, Ux = eigh(X)\n",
    "    Ux_inv = inv(Ux)\n",
    "    tx = diag(array([exp(h * i) for i in rx]))\n",
    "    eX = Ux.dot(tx.dot(Ux_inv))\n",
    "    return eX"
   ]
  },
  {
   "cell_type": "code",
   "execution_count": 12,
   "metadata": {
    "ExecuteTime": {
     "end_time": "2019-01-27T10:29:38.997598Z",
     "start_time": "2019-01-27T10:29:38.980192Z"
    }
   },
   "outputs": [
    {
     "data": {
      "text/latex": [
       "Quantum object: dims = [[5], [5]], shape = (5, 5), type = oper, isherm = True\\begin{equation*}\\left(\\begin{array}{*{11}c}0.253 & (-0.003-0.009j) & (0.015+0.018j) & (0.012-0.013j) & (0.034-0.017j)\\\\(-0.003+0.009j) & 0.074 & (0.050-0.015j) & (-0.050+0.070j) & (0.047-0.036j)\\\\(0.015-0.018j) & (0.050+0.015j) & 0.124 & (-0.084+0.004j) & (-0.081-0.118j)\\\\(0.012+0.013j) & (-0.050-0.070j) & (-0.084-0.004j) & 0.129 & (0.024-0.024j)\\\\(0.034+0.017j) & (0.047+0.036j) & (-0.081+0.118j) & (0.024+0.024j) & 0.420\\\\\\end{array}\\right)\\end{equation*}"
      ],
      "text/plain": [
       "Quantum object: dims = [[5], [5]], shape = (5, 5), type = oper, isherm = True\n",
       "Qobj data =\n",
       "[[ 0.25322513+0.j         -0.00280148-0.00918549j  0.01460059+0.0178932j\n",
       "   0.01206254-0.01335252j  0.03379939-0.01706656j]\n",
       " [-0.00280148+0.00918549j  0.07355258+0.j          0.04964452-0.01482532j\n",
       "  -0.04977092+0.0703186j   0.04747544-0.03574526j]\n",
       " [ 0.01460059-0.0178932j   0.04964452+0.01482532j  0.12400114+0.j\n",
       "  -0.08433786+0.00376657j -0.08100559-0.11784326j]\n",
       " [ 0.01206254+0.01335252j -0.04977092-0.0703186j  -0.08433786-0.00376657j\n",
       "   0.12914005+0.j          0.02369353-0.02429532j]\n",
       " [ 0.03379939+0.01706656j  0.04747544+0.03574526j -0.08100559+0.11784326j\n",
       "   0.02369353+0.02429532j  0.42008111+0.j        ]]"
      ]
     },
     "execution_count": 12,
     "metadata": {},
     "output_type": "execute_result"
    }
   ],
   "source": [
    "x = rand_dm(5)\n",
    "x"
   ]
  },
  {
   "cell_type": "code",
   "execution_count": 14,
   "metadata": {
    "ExecuteTime": {
     "end_time": "2019-01-27T10:30:16.661904Z",
     "start_time": "2019-01-27T10:30:16.404991Z"
    }
   },
   "outputs": [
    {
     "data": {
      "text/latex": [
       "Quantum object: dims = [[5], [5]], shape = (5, 5), type = oper, isherm = True\\begin{equation*}\\left(\\begin{array}{*{11}c}1.290 & (-0.003-0.010j) & (0.016+0.026j) & (0.015-0.017j) & (0.048-0.027j)\\\\(-0.003+0.010j) & 1.084 & (0.058-0.014j) & (-0.056+0.079j) & (0.058-0.047j)\\\\(0.016-0.026j) & (0.058+0.014j) & 1.151 & (-0.098+0.003j) & (-0.107-0.156j)\\\\(0.015+0.017j) & (-0.056-0.079j) & (-0.098-0.003j) & 1.147 & (0.033-0.027j)\\\\(0.048+0.027j) & (0.058+0.047j) & (-0.107+0.156j) & (0.033+0.027j) & 1.540\\\\\\end{array}\\right)\\end{equation*}"
      ],
      "text/plain": [
       "Quantum object: dims = [[5], [5]], shape = (5, 5), type = oper, isherm = True\n",
       "Qobj data =\n",
       "[[ 1.28977546+0.j         -0.00253011-0.01002488j  0.01647771+0.02564919j\n",
       "   0.01512545-0.01674298j  0.04790393-0.02668846j]\n",
       " [-0.00253011+0.01002488j  1.08410256+0.j          0.05769431-0.01444782j\n",
       "  -0.0563348 +0.07900082j  0.0580147 -0.04710707j]\n",
       " [ 0.01647771-0.02564919j  0.05769431+0.01444782j  1.1507914 +0.j\n",
       "  -0.09765944+0.00268795j -0.10659269-0.15601171j]\n",
       " [ 0.01512545+0.01674298j -0.0563348 -0.07900082j -0.09765944-0.00268795j\n",
       "   1.14702705+0.j          0.03287395-0.02650922j]\n",
       " [ 0.04790393+0.02668846j  0.0580147 +0.04710707j -0.10659269+0.15601171j\n",
       "   0.03287395+0.02650922j  1.54041341+0.j        ]]"
      ]
     },
     "execution_count": 14,
     "metadata": {},
     "output_type": "execute_result"
    }
   ],
   "source": [
    "x.expm()"
   ]
  },
  {
   "cell_type": "code",
   "execution_count": 13,
   "metadata": {
    "ExecuteTime": {
     "end_time": "2019-01-27T10:29:53.700458Z",
     "start_time": "2019-01-27T10:29:53.691408Z"
    }
   },
   "outputs": [
    {
     "data": {
      "text/latex": [
       "Quantum object: dims = [[5], [5]], shape = (5, 5), type = oper, isherm = True\\begin{equation*}\\left(\\begin{array}{*{11}c}0.209 & (0.049+0.033j) & (0.058-0.101j) & (0.040-0.009j) & (-0.009-0.082j)\\\\(0.049-0.033j) & 0.092 & (0.016+0.003j) & (0.041-0.043j) & (0.055+0.057j)\\\\(0.058+0.101j) & (0.016-0.003j) & 0.268 & 0.0 & (0.003-0.039j)\\\\(0.040+0.009j) & (0.041+0.043j) & 0.0 & 0.042 & (0.021+0.062j)\\\\(-0.009+0.082j) & (0.055-0.057j) & (0.003+0.039j) & (0.021-0.062j) & 0.389\\\\\\end{array}\\right)\\end{equation*}"
      ],
      "text/plain": [
       "Quantum object: dims = [[5], [5]], shape = (5, 5), type = oper, isherm = True\n",
       "Qobj data =\n",
       "[[ 0.20893842+0.j          0.04867841+0.03285247j  0.05760011-0.10099341j\n",
       "   0.04020313-0.00850648j -0.0087758 -0.0819307j ]\n",
       " [ 0.04867841-0.03285247j  0.09172029+0.j          0.01607646+0.00338449j\n",
       "   0.04137562-0.04278858j  0.05534399+0.05676411j]\n",
       " [ 0.05760011+0.10099341j  0.01607646-0.00338449j  0.26824051+0.j\n",
       "   0.        +0.j          0.00325019-0.03928051j]\n",
       " [ 0.04020313+0.00850648j  0.04137562+0.04278858j  0.        +0.j\n",
       "   0.04164905+0.j          0.02050834+0.06152456j]\n",
       " [-0.0087758 +0.0819307j   0.05534399-0.05676411j  0.00325019+0.03928051j\n",
       "   0.02050834-0.06152456j  0.38945173+0.j        ]]"
      ]
     },
     "execution_count": 13,
     "metadata": {},
     "output_type": "execute_result"
    }
   ],
   "source": [
    "rand_dm(5, 0.5)"
   ]
  },
  {
   "cell_type": "code",
   "execution_count": 22,
   "metadata": {
    "ExecuteTime": {
     "end_time": "2019-01-27T10:37:07.300421Z",
     "start_time": "2019-01-27T10:37:07.293150Z"
    }
   },
   "outputs": [
    {
     "data": {
      "text/plain": [
       "'\\n---------------------------------------------------------------------------\\nValueError                                Traceback (most recent call last)\\n<ipython-input-15-8c6bf0860ea3> in <module>()\\n----> 1 calc_exp(x, 1)\\n\\n<ipython-input-11-b8d453701b72> in calc_exp(X, h)\\n      1 def calc_exp(X, h):\\n----> 2     rx, Ux = eigh(X)\\n      3     Ux_inv = inv(Ux)\\n      4     tx = diag(array([exp(h * i) for i in rx]))\\n      5     eX = Ux.dot(tx.dot(Ux_inv))\\n\\n/anaconda3/envs/qutip-env/lib/python3.6/site-packages/scipy/linalg/decomp.py in\\neigh(a, b, lower, eigvals_only, overwrite_a, overwrite_b, turbo, eigvals, type,\\ncheck_finite)\\n    372 \\n    373     \"\"\"\\n--> 374     a1 = _asarray_validated(a, check_finite=check_finite)\\n    375     if len(a1.shape) != 2 or a1.shape[0] != a1.shape[1]:\\n    376         raise ValueError(\\'expected square matrix\\')\\n\\n/anaconda3/envs/qutip-env/lib/python3.6/site-packages/scipy/_lib/_util.py in \\n_asarray_validated(a, check_finite, sparse_ok, objects_ok, mask_ok, as_inexact)\\n    239     if not objects_ok:\\n    240         if a.dtype is np.dtype(\\'O\\'):\\n--> 241             raise ValueError(\\'object arrays are not supported\\')\\n    242     if as_inexact:\\n    243         if not np.issubdtype(a.dtype, np.inexact):\\n\\nValueError: object arrays are not supported\\n'"
      ]
     },
     "execution_count": 22,
     "metadata": {},
     "output_type": "execute_result"
    }
   ],
   "source": [
    "# calc_exp(x, 1) # gives error\n",
    "'''\n",
    "---------------------------------------------------------------------------\n",
    "ValueError                                Traceback (most recent call last)\n",
    "<ipython-input-15-8c6bf0860ea3> in <module>()\n",
    "----> 1 calc_exp(x, 1)\n",
    "\n",
    "<ipython-input-11-b8d453701b72> in calc_exp(X, h)\n",
    "      1 def calc_exp(X, h):\n",
    "----> 2     rx, Ux = eigh(X)\n",
    "      3     Ux_inv = inv(Ux)\n",
    "      4     tx = diag(array([exp(h * i) for i in rx]))\n",
    "      5     eX = Ux.dot(tx.dot(Ux_inv))\n",
    "\n",
    "/anaconda3/envs/qutip-env/lib/python3.6/site-packages/scipy/linalg/decomp.py in\n",
    "eigh(a, b, lower, eigvals_only, overwrite_a, overwrite_b, turbo, eigvals, type,\n",
    "check_finite)\n",
    "    372 \n",
    "    373     \"\"\"\n",
    "--> 374     a1 = _asarray_validated(a, check_finite=check_finite)\n",
    "    375     if len(a1.shape) != 2 or a1.shape[0] != a1.shape[1]:\n",
    "    376         raise ValueError('expected square matrix')\n",
    "\n",
    "/anaconda3/envs/qutip-env/lib/python3.6/site-packages/scipy/_lib/_util.py in \n",
    "_asarray_validated(a, check_finite, sparse_ok, objects_ok, mask_ok, as_inexact)\n",
    "    239     if not objects_ok:\n",
    "    240         if a.dtype is np.dtype('O'):\n",
    "--> 241             raise ValueError('object arrays are not supported')\n",
    "    242     if as_inexact:\n",
    "    243         if not np.issubdtype(a.dtype, np.inexact):\n",
    "\n",
    "ValueError: object arrays are not supported\n",
    "'''"
   ]
  },
  {
   "cell_type": "code",
   "execution_count": 24,
   "metadata": {
    "ExecuteTime": {
     "end_time": "2019-01-27T10:38:08.372791Z",
     "start_time": "2019-01-27T10:38:08.366644Z"
    }
   },
   "outputs": [
    {
     "data": {
      "text/plain": [
       "array([[ 0.25322513+0.j        , -0.00280148-0.00918549j,\n",
       "         0.01460059+0.0178932j ,  0.01206254-0.01335252j,\n",
       "         0.03379939-0.01706656j],\n",
       "       [-0.00280148+0.00918549j,  0.07355258+0.j        ,\n",
       "         0.04964452-0.01482532j, -0.04977092+0.0703186j ,\n",
       "         0.04747544-0.03574526j],\n",
       "       [ 0.01460059-0.0178932j ,  0.04964452+0.01482532j,\n",
       "         0.12400114+0.j        , -0.08433786+0.00376657j,\n",
       "        -0.08100559-0.11784326j],\n",
       "       [ 0.01206254+0.01335252j, -0.04977092-0.0703186j ,\n",
       "        -0.08433786-0.00376657j,  0.12914005+0.j        ,\n",
       "         0.02369353-0.02429532j],\n",
       "       [ 0.03379939+0.01706656j,  0.04747544+0.03574526j,\n",
       "        -0.08100559+0.11784326j,  0.02369353+0.02429532j,\n",
       "         0.42008111+0.j        ]])"
      ]
     },
     "execution_count": 24,
     "metadata": {},
     "output_type": "execute_result"
    }
   ],
   "source": [
    "x_numpy = x.full()\n",
    "x_numpy"
   ]
  },
  {
   "cell_type": "code",
   "execution_count": 25,
   "metadata": {
    "ExecuteTime": {
     "end_time": "2019-01-27T10:39:53.077052Z",
     "start_time": "2019-01-27T10:39:53.055112Z"
    }
   },
   "outputs": [
    {
     "data": {
      "text/plain": [
       "array([[ 1.28977546+4.52671947e-17j, -0.00253011-1.00248774e-02j,\n",
       "         0.01647771+2.56491907e-02j,  0.01512545-1.67429787e-02j,\n",
       "         0.04790393-2.66884642e-02j],\n",
       "       [-0.00253011+1.00248774e-02j,  1.08410256+0.00000000e+00j,\n",
       "         0.05769431-1.44478209e-02j, -0.0563348 +7.90008198e-02j,\n",
       "         0.0580147 -4.71070663e-02j],\n",
       "       [ 0.01647771-2.56491907e-02j,  0.05769431+1.44478209e-02j,\n",
       "         1.1507914 +2.77555756e-17j, -0.09765944+2.68795436e-03j,\n",
       "        -0.10659269-1.56011713e-01j],\n",
       "       [ 0.01512545+1.67429787e-02j, -0.0563348 -7.90008198e-02j,\n",
       "        -0.09765944-2.68795436e-03j,  1.14702705-5.55111512e-17j,\n",
       "         0.03287395-2.65092240e-02j],\n",
       "       [ 0.04790393+2.66884642e-02j,  0.0580147 +4.71070663e-02j,\n",
       "        -0.10659269+1.56011713e-01j,  0.03287395+2.65092240e-02j,\n",
       "         1.54041341-1.11022302e-16j]])"
      ]
     },
     "execution_count": 25,
     "metadata": {},
     "output_type": "execute_result"
    }
   ],
   "source": [
    "calc_exp(x_numpy, 1)"
   ]
  },
  {
   "cell_type": "code",
   "execution_count": 26,
   "metadata": {
    "ExecuteTime": {
     "end_time": "2019-01-27T10:40:12.324322Z",
     "start_time": "2019-01-27T10:40:12.315222Z"
    }
   },
   "outputs": [
    {
     "data": {
      "text/latex": [
       "Quantum object: dims = [[5], [5]], shape = (5, 5), type = oper, isherm = True\\begin{equation*}\\left(\\begin{array}{*{11}c}1.290 & (-0.003-0.010j) & (0.016+0.026j) & (0.015-0.017j) & (0.048-0.027j)\\\\(-0.003+0.010j) & 1.084 & (0.058-0.014j) & (-0.056+0.079j) & (0.058-0.047j)\\\\(0.016-0.026j) & (0.058+0.014j) & 1.151 & (-0.098+0.003j) & (-0.107-0.156j)\\\\(0.015+0.017j) & (-0.056-0.079j) & (-0.098-0.003j) & 1.147 & (0.033-0.027j)\\\\(0.048+0.027j) & (0.058+0.047j) & (-0.107+0.156j) & (0.033+0.027j) & 1.540\\\\\\end{array}\\right)\\end{equation*}"
      ],
      "text/plain": [
       "Quantum object: dims = [[5], [5]], shape = (5, 5), type = oper, isherm = True\n",
       "Qobj data =\n",
       "[[ 1.28977546+0.j         -0.00253011-0.01002488j  0.01647771+0.02564919j\n",
       "   0.01512545-0.01674298j  0.04790393-0.02668846j]\n",
       " [-0.00253011+0.01002488j  1.08410256+0.j          0.05769431-0.01444782j\n",
       "  -0.0563348 +0.07900082j  0.0580147 -0.04710707j]\n",
       " [ 0.01647771-0.02564919j  0.05769431+0.01444782j  1.1507914 +0.j\n",
       "  -0.09765944+0.00268795j -0.10659269-0.15601171j]\n",
       " [ 0.01512545+0.01674298j -0.0563348 -0.07900082j -0.09765944-0.00268795j\n",
       "   1.14702705+0.j          0.03287395-0.02650922j]\n",
       " [ 0.04790393+0.02668846j  0.0580147 +0.04710707j -0.10659269+0.15601171j\n",
       "   0.03287395+0.02650922j  1.54041341+0.j        ]]"
      ]
     },
     "execution_count": 26,
     "metadata": {},
     "output_type": "execute_result"
    }
   ],
   "source": [
    "x.expm()"
   ]
  },
  {
   "cell_type": "code",
   "execution_count": 27,
   "metadata": {
    "ExecuteTime": {
     "end_time": "2019-01-27T10:45:32.471786Z",
     "start_time": "2019-01-27T10:45:32.444666Z"
    }
   },
   "outputs": [
    {
     "data": {
      "text/plain": [
       "array([[ 1.28977546+0.j        , -0.00253011-0.01002488j,\n",
       "         0.01647771+0.02564919j,  0.01512545-0.01674298j,\n",
       "         0.04790393-0.02668846j],\n",
       "       [-0.00253011+0.01002488j,  1.08410256+0.j        ,\n",
       "         0.05769431-0.01444782j, -0.0563348 +0.07900082j,\n",
       "         0.0580147 -0.04710707j],\n",
       "       [ 0.01647771-0.02564919j,  0.05769431+0.01444782j,\n",
       "         1.1507914 +0.j        , -0.09765944+0.00268795j,\n",
       "        -0.10659269-0.15601171j],\n",
       "       [ 0.01512545+0.01674298j, -0.0563348 -0.07900082j,\n",
       "        -0.09765944-0.00268795j,  1.14702705+0.j        ,\n",
       "         0.03287395-0.02650922j],\n",
       "       [ 0.04790393+0.02668846j,  0.0580147 +0.04710707j,\n",
       "        -0.10659269+0.15601171j,  0.03287395+0.02650922j,\n",
       "         1.54041341+0.j        ]])"
      ]
     },
     "execution_count": 27,
     "metadata": {},
     "output_type": "execute_result"
    }
   ],
   "source": [
    "x.expm().full()"
   ]
  },
  {
   "cell_type": "code",
   "execution_count": null,
   "metadata": {},
   "outputs": [],
   "source": []
  },
  {
   "cell_type": "code",
   "execution_count": 30,
   "metadata": {
    "ExecuteTime": {
     "end_time": "2019-01-31T14:52:07.073437Z",
     "start_time": "2019-01-31T14:52:07.062838Z"
    }
   },
   "outputs": [
    {
     "data": {
      "text/plain": [
       "array([[0.06707568, 0.88789411, 0.02334329, 0.10977812, 0.10989659],\n",
       "       [0.82267499, 0.83599914, 0.99228993, 0.06619289, 0.40175406],\n",
       "       [0.23234963, 0.63339445, 0.28913622, 0.57649547, 0.25876467],\n",
       "       [0.94659844, 0.10159657, 0.6869495 , 0.14339894, 0.78349935],\n",
       "       [0.20165776, 0.18911986, 0.80275912, 0.86093009, 0.93223422]])"
      ]
     },
     "execution_count": 30,
     "metadata": {},
     "output_type": "execute_result"
    }
   ],
   "source": [
    "y = random_sample((5,5))\n",
    "y"
   ]
  },
  {
   "cell_type": "code",
   "execution_count": 31,
   "metadata": {
    "ExecuteTime": {
     "end_time": "2019-01-31T14:52:08.824513Z",
     "start_time": "2019-01-31T14:52:08.801483Z"
    }
   },
   "outputs": [
    {
     "data": {
      "text/latex": [
       "Quantum object: dims = [[5], [5]], shape = (5, 5), type = oper, isherm = False\\begin{equation*}\\left(\\begin{array}{*{11}c}0.067 & 0.888 & 0.023 & 0.110 & 0.110\\\\0.823 & 0.836 & 0.992 & 0.066 & 0.402\\\\0.232 & 0.633 & 0.289 & 0.576 & 0.259\\\\0.947 & 0.102 & 0.687 & 0.143 & 0.783\\\\0.202 & 0.189 & 0.803 & 0.861 & 0.932\\\\\\end{array}\\right)\\end{equation*}"
      ],
      "text/plain": [
       "Quantum object: dims = [[5], [5]], shape = (5, 5), type = oper, isherm = False\n",
       "Qobj data =\n",
       "[[0.06707568 0.88789411 0.02334329 0.10977812 0.10989659]\n",
       " [0.82267499 0.83599914 0.99228993 0.06619289 0.40175406]\n",
       " [0.23234963 0.63339445 0.28913622 0.57649547 0.25876467]\n",
       " [0.94659844 0.10159657 0.6869495  0.14339894 0.78349935]\n",
       " [0.20165776 0.18911986 0.80275912 0.86093009 0.93223422]]"
      ]
     },
     "execution_count": 31,
     "metadata": {},
     "output_type": "execute_result"
    }
   ],
   "source": [
    "yq = Qobj(y)\n",
    "yq"
   ]
  },
  {
   "cell_type": "code",
   "execution_count": 32,
   "metadata": {
    "ExecuteTime": {
     "end_time": "2019-01-31T14:52:13.569081Z",
     "start_time": "2019-01-31T14:52:13.559885Z"
    }
   },
   "outputs": [
    {
     "data": {
      "text/latex": [
       "Quantum object: dims = [[5], [5]], shape = (5, 5), type = oper, isherm = False\\begin{equation*}\\left(\\begin{array}{*{11}c}1.988 & 2.027 & 1.184 & 0.621 & 0.898\\\\2.499 & 4.301 & 3.150 & 1.429 & 2.084\\\\1.557 & 2.138 & 2.896 & 1.484 & 1.586\\\\2.173 & 1.911 & 2.383 & 2.456 & 2.356\\\\1.985 & 2.084 & 3.118 & 2.571 & 4.155\\\\\\end{array}\\right)\\end{equation*}"
      ],
      "text/plain": [
       "Quantum object: dims = [[5], [5]], shape = (5, 5), type = oper, isherm = False\n",
       "Qobj data =\n",
       "[[1.98841737 2.02711371 1.18436785 0.62087482 0.89820787]\n",
       " [2.49881119 4.30065544 3.14968027 1.42925124 2.08435019]\n",
       " [1.55656204 2.13802942 2.89589143 1.48431033 1.58608536]\n",
       " [2.17276351 1.91144799 2.3828137  2.45640793 2.35628745]\n",
       " [1.98510255 2.08421965 3.11832499 2.57148116 4.15450301]]"
      ]
     },
     "execution_count": 32,
     "metadata": {},
     "output_type": "execute_result"
    }
   ],
   "source": [
    "yq.expm()"
   ]
  },
  {
   "cell_type": "code",
   "execution_count": 33,
   "metadata": {
    "ExecuteTime": {
     "end_time": "2019-01-31T14:52:24.692364Z",
     "start_time": "2019-01-31T14:52:24.684750Z"
    }
   },
   "outputs": [
    {
     "data": {
      "text/plain": [
       "array([[1.98841737+0.j, 2.02711371+0.j, 1.18436785+0.j, 0.62087482+0.j,\n",
       "        0.89820787+0.j],\n",
       "       [2.49881119+0.j, 4.30065544+0.j, 3.14968027+0.j, 1.42925124+0.j,\n",
       "        2.08435019+0.j],\n",
       "       [1.55656204+0.j, 2.13802942+0.j, 2.89589143+0.j, 1.48431033+0.j,\n",
       "        1.58608536+0.j],\n",
       "       [2.17276351+0.j, 1.91144799+0.j, 2.3828137 +0.j, 2.45640793+0.j,\n",
       "        2.35628745+0.j],\n",
       "       [1.98510255+0.j, 2.08421965+0.j, 3.11832499+0.j, 2.57148116+0.j,\n",
       "        4.15450301+0.j]])"
      ]
     },
     "execution_count": 33,
     "metadata": {},
     "output_type": "execute_result"
    }
   ],
   "source": [
    "yq.expm().full()"
   ]
  },
  {
   "cell_type": "code",
   "execution_count": 34,
   "metadata": {
    "ExecuteTime": {
     "end_time": "2019-01-31T14:52:26.806413Z",
     "start_time": "2019-01-31T14:52:26.801302Z"
    }
   },
   "outputs": [
    {
     "data": {
      "text/plain": [
       "array([[2.86273537, 2.52296635, 2.13428457, 2.57702522, 2.25413124],\n",
       "       [2.52296635, 4.01394723, 2.53342224, 2.11332746, 2.20048327],\n",
       "       [2.13428457, 2.53342224, 3.58685888, 2.86755633, 3.39648003],\n",
       "       [2.57702522, 2.11332746, 2.86755633, 3.65716368, 3.48583133],\n",
       "       [2.25413124, 2.20048327, 3.39648003, 3.48583133, 5.1445366 ]])"
      ]
     },
     "execution_count": 34,
     "metadata": {},
     "output_type": "execute_result"
    }
   ],
   "source": [
    "calc_exp(y, 1)"
   ]
  },
  {
   "cell_type": "code",
   "execution_count": null,
   "metadata": {},
   "outputs": [],
   "source": []
  }
 ],
 "metadata": {
  "kernelspec": {
   "display_name": "Python 3",
   "language": "python",
   "name": "python3"
  },
  "language_info": {
   "codemirror_mode": {
    "name": "ipython",
    "version": 3
   },
   "file_extension": ".py",
   "mimetype": "text/x-python",
   "name": "python",
   "nbconvert_exporter": "python",
   "pygments_lexer": "ipython3",
   "version": "3.6.8"
  },
  "toc": {
   "base_numbering": 1,
   "nav_menu": {},
   "number_sections": true,
   "sideBar": true,
   "skip_h1_title": false,
   "title_cell": "Table of Contents",
   "title_sidebar": "Contents",
   "toc_cell": false,
   "toc_position": {},
   "toc_section_display": true,
   "toc_window_display": false
  }
 },
 "nbformat": 4,
 "nbformat_minor": 2
}
